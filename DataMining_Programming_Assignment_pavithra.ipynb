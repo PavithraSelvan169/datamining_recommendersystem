{
 "cells": [
  {
   "cell_type": "markdown",
   "metadata": {
    "id": "Hr7SGYEq69wv"
   },
   "source": [
    "# ITCS 6162: Data Mining - Programming Assignment"
   ]
  },
  {
   "cell_type": "markdown",
   "metadata": {
    "id": "L_idzFtE7M_9"
   },
   "source": [
    "## Pavithra Selvan\n",
    "\n",
    "#### Assignment Structure\n",
    "\n",
    "1. Part-1: Explore data analysis\n",
    "2. Part-2: Recommendation algorithms (collaborative filtering)\n",
    "3. Part-3: Pixie-inspired Graph-based techniques (Unweighted and then, Weighted versions).\n",
    "\n"
   ]
  },
  {
   "cell_type": "markdown",
   "metadata": {
    "id": "EZxjOF_l79zc",
    "jp-MarkdownHeadingCollapsed": true
   },
   "source": [
    "#### Dataset Files:\n",
    "- **`u.data`**: User-movie ratings (`user_id  movie_id  rating  timestamp`)\n",
    "- **`u.item`**: Movie metadata (`movie_id | title | release date | IMDB_website`)\n",
    "- **`u.user`**: User demographics (`user_id | age | gender | occupation | zip_code`)"
   ]
  },
  {
   "cell_type": "markdown",
   "metadata": {
    "id": "ytr6isc2F9g6"
   },
   "source": [
    "## **Part 1: Exploring and Cleaning Data**"
   ]
  },
  {
   "cell_type": "code",
   "execution_count": 1,
   "metadata": {
    "id": "t3jfbGLjwdPW"
   },
   "outputs": [],
   "source": [
    "import pandas as pd\n",
    "import numpy as np\n",
    "from sklearn.metrics.pairwise import cosine_similarity"
   ]
  },
  {
   "cell_type": "code",
   "execution_count": 2,
   "metadata": {
    "id": "8RQeQ91zw_m2"
   },
   "outputs": [
    {
     "data": {
      "text/plain": [
       "'C:\\\\pyprojects\\\\DataMining\\\\Data\\\\'"
      ]
     },
     "execution_count": 2,
     "metadata": {},
     "output_type": "execute_result"
    }
   ],
   "source": [
    "path = 'C:\\\\pyprojects\\\\DataMining\\\\Data\\\\'\n",
    "path"
   ]
  },
  {
   "cell_type": "markdown",
   "metadata": {
    "id": "87kIrhTC9Ba1"
   },
   "source": [
    "### Step-A Inspecting the Dataset Format\n",
    "\n",
    "The dataset is not in a traditional CSV format. \n",
    "To examine its structure, the file is opened in read mode, and printed the first 10 lines.\n",
    "The code is being run in a Windows machine. Therefore, using python functions to examine the contents, instead of shell commands.\n"
   ]
  },
  {
   "cell_type": "markdown",
   "metadata": {
    "id": "PjOtbBWM9xWv"
   },
   "source": [
    "***\n",
    "**u.data file - print first 10 lines**\n",
    "***\n",
    "**Findings:**\n",
    "1. The file is a tab separated file, with no header\n",
    "2. There are four columns, out of which the first three will be used (user_id, movie_id and rating).\n"
   ]
  },
  {
   "cell_type": "code",
   "execution_count": 3,
   "metadata": {
    "colab": {
     "base_uri": "https://localhost:8080/",
     "height": 206
    },
    "id": "XOoSaKsq68nD",
    "outputId": "be584906-973a-4b36-c038-b2a674b9bedf"
   },
   "outputs": [
    {
     "name": "stdout",
     "output_type": "stream",
     "text": [
      "196\t242\t3\t881250949\n",
      "\n",
      "186\t302\t3\t891717742\n",
      "\n",
      "22\t377\t1\t878887116\n",
      "\n",
      "244\t51\t2\t880606923\n",
      "\n",
      "166\t346\t1\t886397596\n",
      "\n",
      "298\t474\t4\t884182806\n",
      "\n",
      "115\t265\t2\t881171488\n",
      "\n",
      "253\t465\t5\t891628467\n",
      "\n",
      "305\t451\t3\t886324817\n",
      "\n",
      "6\t86\t3\t883603013\n",
      "\n"
     ]
    }
   ],
   "source": [
    "with open(path+'u.data', 'r') as input_file:\n",
    "    for _ in range(10):\n",
    "        print(next(input_file))"
   ]
  },
  {
   "cell_type": "markdown",
   "metadata": {},
   "source": [
    "***\n",
    "**u.item file - print first 10 lines**\n",
    "***\n",
    "**Findings:**\n",
    "1. The file is a pipe separated file, with no header\n",
    "2. There are many columns, out of which the first three will be used (movie_id, title and release_date).\n"
   ]
  },
  {
   "cell_type": "code",
   "execution_count": 4,
   "metadata": {
    "colab": {
     "base_uri": "https://localhost:8080/",
     "height": 399
    },
    "id": "dckMko0o9t-D",
    "outputId": "76662881-96b6-42d9-aaf2-29f764cb17b1"
   },
   "outputs": [
    {
     "name": "stdout",
     "output_type": "stream",
     "text": [
      "1|Toy Story (1995)|01-Jan-1995||http://us.imdb.com/M/title-exact?Toy%20Story%20(1995)|0|0|0|1|1|1|0|0|0|0|0|0|0|0|0|0|0|0|0\n",
      "\n",
      "2|GoldenEye (1995)|01-Jan-1995||http://us.imdb.com/M/title-exact?GoldenEye%20(1995)|0|1|1|0|0|0|0|0|0|0|0|0|0|0|0|0|1|0|0\n",
      "\n",
      "3|Four Rooms (1995)|01-Jan-1995||http://us.imdb.com/M/title-exact?Four%20Rooms%20(1995)|0|0|0|0|0|0|0|0|0|0|0|0|0|0|0|0|1|0|0\n",
      "\n",
      "4|Get Shorty (1995)|01-Jan-1995||http://us.imdb.com/M/title-exact?Get%20Shorty%20(1995)|0|1|0|0|0|1|0|0|1|0|0|0|0|0|0|0|0|0|0\n",
      "\n",
      "5|Copycat (1995)|01-Jan-1995||http://us.imdb.com/M/title-exact?Copycat%20(1995)|0|0|0|0|0|0|1|0|1|0|0|0|0|0|0|0|1|0|0\n",
      "\n",
      "6|Shanghai Triad (Yao a yao yao dao waipo qiao) (1995)|01-Jan-1995||http://us.imdb.com/Title?Yao+a+yao+yao+dao+waipo+qiao+(1995)|0|0|0|0|0|0|0|0|1|0|0|0|0|0|0|0|0|0|0\n",
      "\n",
      "7|Twelve Monkeys (1995)|01-Jan-1995||http://us.imdb.com/M/title-exact?Twelve%20Monkeys%20(1995)|0|0|0|0|0|0|0|0|1|0|0|0|0|0|0|1|0|0|0\n",
      "\n",
      "8|Babe (1995)|01-Jan-1995||http://us.imdb.com/M/title-exact?Babe%20(1995)|0|0|0|0|1|1|0|0|1|0|0|0|0|0|0|0|0|0|0\n",
      "\n",
      "9|Dead Man Walking (1995)|01-Jan-1995||http://us.imdb.com/M/title-exact?Dead%20Man%20Walking%20(1995)|0|0|0|0|0|0|0|0|1|0|0|0|0|0|0|0|0|0|0\n",
      "\n",
      "10|Richard III (1995)|22-Jan-1996||http://us.imdb.com/M/title-exact?Richard%20III%20(1995)|0|0|0|0|0|0|0|0|1|0|0|0|0|0|0|0|0|1|0\n",
      "\n"
     ]
    }
   ],
   "source": [
    "with open(path+'u.item', 'r') as input_file:\n",
    "    for _ in range(10):\n",
    "        print(next(input_file))"
   ]
  },
  {
   "cell_type": "markdown",
   "metadata": {},
   "source": [
    "***\n",
    "**u.user file - print first 10 lines**\n",
    "***\n",
    "**Findings:**\n",
    "1. The file is a pipe separated file, with no header\n",
    "2. There are four columns, out of which the first four will be used (user_id, age, gender and occupation).\n"
   ]
  },
  {
   "cell_type": "code",
   "execution_count": 5,
   "metadata": {
    "colab": {
     "base_uri": "https://localhost:8080/",
     "height": 206
    },
    "id": "R7kBwpsi-WKB",
    "outputId": "6ca176fd-daf6-4b21-da49-89b17cb71ea6"
   },
   "outputs": [
    {
     "name": "stdout",
     "output_type": "stream",
     "text": [
      "1|24|M|technician|85711\n",
      "\n",
      "2|53|F|other|94043\n",
      "\n",
      "3|23|M|writer|32067\n",
      "\n",
      "4|24|M|technician|43537\n",
      "\n",
      "5|33|F|other|15213\n",
      "\n",
      "6|42|M|executive|98101\n",
      "\n",
      "7|57|M|administrator|91344\n",
      "\n",
      "8|36|M|administrator|05201\n",
      "\n",
      "9|29|M|student|01002\n",
      "\n",
      "10|53|M|lawyer|90703\n",
      "\n"
     ]
    }
   ],
   "source": [
    "with open(path+'u.user', 'r') as input_file:\n",
    "    for _ in range(10):\n",
    "        print(next(input_file))"
   ]
  },
  {
   "cell_type": "markdown",
   "metadata": {
    "id": "YnryIHO7-db3"
   },
   "source": [
    "### Step-B Loading the Dataset with Pandas"
   ]
  },
  {
   "cell_type": "markdown",
   "metadata": {
    "id": "Jwmza7riBj30"
   },
   "source": [
    "Use **pandas** to load the dataset into a DataFrame for analysis. Follow these steps:  \n",
    "\n",
    "1. Import the necessary library: `pandas`.  \n",
    "2. Use `pd.read_csv()` (or an appropriate function) to read the dataset file.  \n",
    "3. Ensure the dataset is loaded with the correct delimiter (e.g., `','`, `'\\t'`,`'|'` , or another separator if needed).  \n",
    "4. Select and display the first few rows using `.head()`."
   ]
  },
  {
   "cell_type": "code",
   "execution_count": 6,
   "metadata": {
    "colab": {
     "base_uri": "https://localhost:8080/",
     "height": 206
    },
    "id": "Go-Y-Ofy-ZTk",
    "outputId": "1ac81c78-6305-46c2-f0ee-860798622eff"
   },
   "outputs": [
    {
     "data": {
      "text/html": [
       "<div>\n",
       "<style scoped>\n",
       "    .dataframe tbody tr th:only-of-type {\n",
       "        vertical-align: middle;\n",
       "    }\n",
       "\n",
       "    .dataframe tbody tr th {\n",
       "        vertical-align: top;\n",
       "    }\n",
       "\n",
       "    .dataframe thead th {\n",
       "        text-align: right;\n",
       "    }\n",
       "</style>\n",
       "<table border=\"1\" class=\"dataframe\">\n",
       "  <thead>\n",
       "    <tr style=\"text-align: right;\">\n",
       "      <th></th>\n",
       "      <th>user_id</th>\n",
       "      <th>movie_id</th>\n",
       "      <th>rating</th>\n",
       "      <th>timestamp</th>\n",
       "    </tr>\n",
       "  </thead>\n",
       "  <tbody>\n",
       "    <tr>\n",
       "      <th>0</th>\n",
       "      <td>196</td>\n",
       "      <td>242</td>\n",
       "      <td>3</td>\n",
       "      <td>881250949</td>\n",
       "    </tr>\n",
       "    <tr>\n",
       "      <th>1</th>\n",
       "      <td>186</td>\n",
       "      <td>302</td>\n",
       "      <td>3</td>\n",
       "      <td>891717742</td>\n",
       "    </tr>\n",
       "    <tr>\n",
       "      <th>2</th>\n",
       "      <td>22</td>\n",
       "      <td>377</td>\n",
       "      <td>1</td>\n",
       "      <td>878887116</td>\n",
       "    </tr>\n",
       "    <tr>\n",
       "      <th>3</th>\n",
       "      <td>244</td>\n",
       "      <td>51</td>\n",
       "      <td>2</td>\n",
       "      <td>880606923</td>\n",
       "    </tr>\n",
       "    <tr>\n",
       "      <th>4</th>\n",
       "      <td>166</td>\n",
       "      <td>346</td>\n",
       "      <td>1</td>\n",
       "      <td>886397596</td>\n",
       "    </tr>\n",
       "  </tbody>\n",
       "</table>\n",
       "</div>"
      ],
      "text/plain": [
       "   user_id  movie_id  rating  timestamp\n",
       "0      196       242       3  881250949\n",
       "1      186       302       3  891717742\n",
       "2       22       377       1  878887116\n",
       "3      244        51       2  880606923\n",
       "4      166       346       1  886397596"
      ]
     },
     "execution_count": 6,
     "metadata": {},
     "output_type": "execute_result"
    }
   ],
   "source": [
    "# ratings\n",
    "u_data_df=pd.read_csv(path+'u.data',sep='\\t',names=['user_id','movie_id','rating','timestamp'])\n",
    "u_data_df.head()"
   ]
  },
  {
   "cell_type": "code",
   "execution_count": 7,
   "metadata": {
    "colab": {
     "base_uri": "https://localhost:8080/",
     "height": 206
    },
    "id": "zM8IJGh-CLN5",
    "outputId": "4d0bf6a0-d750-486b-91ba-631ae27522a4"
   },
   "outputs": [
    {
     "data": {
      "text/html": [
       "<div>\n",
       "<style scoped>\n",
       "    .dataframe tbody tr th:only-of-type {\n",
       "        vertical-align: middle;\n",
       "    }\n",
       "\n",
       "    .dataframe tbody tr th {\n",
       "        vertical-align: top;\n",
       "    }\n",
       "\n",
       "    .dataframe thead th {\n",
       "        text-align: right;\n",
       "    }\n",
       "</style>\n",
       "<table border=\"1\" class=\"dataframe\">\n",
       "  <thead>\n",
       "    <tr style=\"text-align: right;\">\n",
       "      <th></th>\n",
       "      <th>movie_id</th>\n",
       "      <th>title</th>\n",
       "      <th>release_date</th>\n",
       "    </tr>\n",
       "  </thead>\n",
       "  <tbody>\n",
       "    <tr>\n",
       "      <th>0</th>\n",
       "      <td>1</td>\n",
       "      <td>Toy Story (1995)</td>\n",
       "      <td>01-Jan-1995</td>\n",
       "    </tr>\n",
       "    <tr>\n",
       "      <th>1</th>\n",
       "      <td>2</td>\n",
       "      <td>GoldenEye (1995)</td>\n",
       "      <td>01-Jan-1995</td>\n",
       "    </tr>\n",
       "    <tr>\n",
       "      <th>2</th>\n",
       "      <td>3</td>\n",
       "      <td>Four Rooms (1995)</td>\n",
       "      <td>01-Jan-1995</td>\n",
       "    </tr>\n",
       "    <tr>\n",
       "      <th>3</th>\n",
       "      <td>4</td>\n",
       "      <td>Get Shorty (1995)</td>\n",
       "      <td>01-Jan-1995</td>\n",
       "    </tr>\n",
       "    <tr>\n",
       "      <th>4</th>\n",
       "      <td>5</td>\n",
       "      <td>Copycat (1995)</td>\n",
       "      <td>01-Jan-1995</td>\n",
       "    </tr>\n",
       "  </tbody>\n",
       "</table>\n",
       "</div>"
      ],
      "text/plain": [
       "   movie_id              title release_date\n",
       "0         1   Toy Story (1995)  01-Jan-1995\n",
       "1         2   GoldenEye (1995)  01-Jan-1995\n",
       "2         3  Four Rooms (1995)  01-Jan-1995\n",
       "3         4  Get Shorty (1995)  01-Jan-1995\n",
       "4         5     Copycat (1995)  01-Jan-1995"
      ]
     },
     "execution_count": 7,
     "metadata": {},
     "output_type": "execute_result"
    }
   ],
   "source": [
    "# movies\n",
    "u_item_df=pd.read_csv(path+'u.item',sep='|',encoding='latin-1',usecols=[0, 1, 2],names=['movie_id','title','release_date'])\n",
    "u_item_df.head()"
   ]
  },
  {
   "cell_type": "code",
   "execution_count": 8,
   "metadata": {
    "colab": {
     "base_uri": "https://localhost:8080/",
     "height": 206
    },
    "id": "hsekVjevCNKj",
    "outputId": "cb9617bb-355e-4fe1-8504-aa0e6dd68963"
   },
   "outputs": [
    {
     "data": {
      "text/html": [
       "<div>\n",
       "<style scoped>\n",
       "    .dataframe tbody tr th:only-of-type {\n",
       "        vertical-align: middle;\n",
       "    }\n",
       "\n",
       "    .dataframe tbody tr th {\n",
       "        vertical-align: top;\n",
       "    }\n",
       "\n",
       "    .dataframe thead th {\n",
       "        text-align: right;\n",
       "    }\n",
       "</style>\n",
       "<table border=\"1\" class=\"dataframe\">\n",
       "  <thead>\n",
       "    <tr style=\"text-align: right;\">\n",
       "      <th></th>\n",
       "      <th>user_id</th>\n",
       "      <th>age</th>\n",
       "      <th>gender</th>\n",
       "      <th>occupation</th>\n",
       "    </tr>\n",
       "  </thead>\n",
       "  <tbody>\n",
       "    <tr>\n",
       "      <th>0</th>\n",
       "      <td>1</td>\n",
       "      <td>24</td>\n",
       "      <td>M</td>\n",
       "      <td>technician</td>\n",
       "    </tr>\n",
       "    <tr>\n",
       "      <th>1</th>\n",
       "      <td>2</td>\n",
       "      <td>53</td>\n",
       "      <td>F</td>\n",
       "      <td>other</td>\n",
       "    </tr>\n",
       "    <tr>\n",
       "      <th>2</th>\n",
       "      <td>3</td>\n",
       "      <td>23</td>\n",
       "      <td>M</td>\n",
       "      <td>writer</td>\n",
       "    </tr>\n",
       "    <tr>\n",
       "      <th>3</th>\n",
       "      <td>4</td>\n",
       "      <td>24</td>\n",
       "      <td>M</td>\n",
       "      <td>technician</td>\n",
       "    </tr>\n",
       "    <tr>\n",
       "      <th>4</th>\n",
       "      <td>5</td>\n",
       "      <td>33</td>\n",
       "      <td>F</td>\n",
       "      <td>other</td>\n",
       "    </tr>\n",
       "  </tbody>\n",
       "</table>\n",
       "</div>"
      ],
      "text/plain": [
       "   user_id  age gender  occupation\n",
       "0        1   24      M  technician\n",
       "1        2   53      F       other\n",
       "2        3   23      M      writer\n",
       "3        4   24      M  technician\n",
       "4        5   33      F       other"
      ]
     },
     "execution_count": 8,
     "metadata": {},
     "output_type": "execute_result"
    }
   ],
   "source": [
    "# users\n",
    "u_user_df=pd.read_csv(path+'u.user',sep='|',usecols=[0, 1, 2, 3],names=['user_id','age','gender','occupation'])\n",
    "u_user_df.head()\n"
   ]
  },
  {
   "cell_type": "markdown",
   "metadata": {
    "id": "jE5OHLqt7xeq"
   },
   "source": [
    "**Note:** As a **Bonus** task save the `ratings`, `movies` and `users` dataframe created into a `.csv` file format. <br>\n",
    "**Hint:** Use the `to_csv()` function in pandas to save these DataFrames as CSV files."
   ]
  },
  {
   "cell_type": "markdown",
   "metadata": {
    "id": "9XYjWlJAzSUG"
   },
   "source": [
    "### Step-C Saving dataframe to CSV file format\n",
    "The three dataframes have been saved as csv files. \n",
    "\n",
    "**File Names:**\n",
    "1. u.data.csv\n",
    "2. u.item.csv\n",
    "3. u.user.csv"
   ]
  },
  {
   "cell_type": "code",
   "execution_count": 9,
   "metadata": {
    "id": "Chyv3c4n8wVC"
   },
   "outputs": [],
   "source": [
    "# ratings\n",
    "u_data_csv=u_data_df.to_csv(path+'u.data.csv',index=False)"
   ]
  },
  {
   "cell_type": "code",
   "execution_count": 10,
   "metadata": {
    "id": "Gl7zVV3y8wKU"
   },
   "outputs": [],
   "source": [
    "# movies\n",
    "u_item_csv=u_item_df.to_csv(path+'u.item.csv',index=False)"
   ]
  },
  {
   "cell_type": "code",
   "execution_count": 11,
   "metadata": {
    "id": "0YwVuebp8u46"
   },
   "outputs": [],
   "source": [
    "# users\n",
    "u_user_csv=u_user_df.to_csv(path+'u.user.csv',index=False)"
   ]
  },
  {
   "cell_type": "markdown",
   "metadata": {
    "id": "s3S1y82cCYxx"
   },
   "source": [
    "**Display the first 10 rows of each file.**"
   ]
  },
  {
   "cell_type": "code",
   "execution_count": 12,
   "metadata": {
    "colab": {
     "base_uri": "https://localhost:8080/",
     "height": 363
    },
    "id": "x5ZOXTqnCPgw",
    "outputId": "e163b054-9d66-4e1e-9fe1-327d5129516a"
   },
   "outputs": [
    {
     "data": {
      "text/html": [
       "<div>\n",
       "<style scoped>\n",
       "    .dataframe tbody tr th:only-of-type {\n",
       "        vertical-align: middle;\n",
       "    }\n",
       "\n",
       "    .dataframe tbody tr th {\n",
       "        vertical-align: top;\n",
       "    }\n",
       "\n",
       "    .dataframe thead th {\n",
       "        text-align: right;\n",
       "    }\n",
       "</style>\n",
       "<table border=\"1\" class=\"dataframe\">\n",
       "  <thead>\n",
       "    <tr style=\"text-align: right;\">\n",
       "      <th></th>\n",
       "      <th>user_id</th>\n",
       "      <th>movie_id</th>\n",
       "      <th>rating</th>\n",
       "      <th>timestamp</th>\n",
       "    </tr>\n",
       "  </thead>\n",
       "  <tbody>\n",
       "    <tr>\n",
       "      <th>0</th>\n",
       "      <td>196</td>\n",
       "      <td>242</td>\n",
       "      <td>3</td>\n",
       "      <td>881250949</td>\n",
       "    </tr>\n",
       "    <tr>\n",
       "      <th>1</th>\n",
       "      <td>186</td>\n",
       "      <td>302</td>\n",
       "      <td>3</td>\n",
       "      <td>891717742</td>\n",
       "    </tr>\n",
       "    <tr>\n",
       "      <th>2</th>\n",
       "      <td>22</td>\n",
       "      <td>377</td>\n",
       "      <td>1</td>\n",
       "      <td>878887116</td>\n",
       "    </tr>\n",
       "    <tr>\n",
       "      <th>3</th>\n",
       "      <td>244</td>\n",
       "      <td>51</td>\n",
       "      <td>2</td>\n",
       "      <td>880606923</td>\n",
       "    </tr>\n",
       "    <tr>\n",
       "      <th>4</th>\n",
       "      <td>166</td>\n",
       "      <td>346</td>\n",
       "      <td>1</td>\n",
       "      <td>886397596</td>\n",
       "    </tr>\n",
       "    <tr>\n",
       "      <th>5</th>\n",
       "      <td>298</td>\n",
       "      <td>474</td>\n",
       "      <td>4</td>\n",
       "      <td>884182806</td>\n",
       "    </tr>\n",
       "    <tr>\n",
       "      <th>6</th>\n",
       "      <td>115</td>\n",
       "      <td>265</td>\n",
       "      <td>2</td>\n",
       "      <td>881171488</td>\n",
       "    </tr>\n",
       "    <tr>\n",
       "      <th>7</th>\n",
       "      <td>253</td>\n",
       "      <td>465</td>\n",
       "      <td>5</td>\n",
       "      <td>891628467</td>\n",
       "    </tr>\n",
       "    <tr>\n",
       "      <th>8</th>\n",
       "      <td>305</td>\n",
       "      <td>451</td>\n",
       "      <td>3</td>\n",
       "      <td>886324817</td>\n",
       "    </tr>\n",
       "    <tr>\n",
       "      <th>9</th>\n",
       "      <td>6</td>\n",
       "      <td>86</td>\n",
       "      <td>3</td>\n",
       "      <td>883603013</td>\n",
       "    </tr>\n",
       "  </tbody>\n",
       "</table>\n",
       "</div>"
      ],
      "text/plain": [
       "   user_id  movie_id  rating  timestamp\n",
       "0      196       242       3  881250949\n",
       "1      186       302       3  891717742\n",
       "2       22       377       1  878887116\n",
       "3      244        51       2  880606923\n",
       "4      166       346       1  886397596\n",
       "5      298       474       4  884182806\n",
       "6      115       265       2  881171488\n",
       "7      253       465       5  891628467\n",
       "8      305       451       3  886324817\n",
       "9        6        86       3  883603013"
      ]
     },
     "execution_count": 12,
     "metadata": {},
     "output_type": "execute_result"
    }
   ],
   "source": [
    "# ratings\n",
    "u_data_df.head(10)"
   ]
  },
  {
   "cell_type": "code",
   "execution_count": 13,
   "metadata": {
    "colab": {
     "base_uri": "https://localhost:8080/",
     "height": 363
    },
    "id": "AzuqiRkrCdfZ",
    "outputId": "ab620275-69d4-4bbf-fd77-8215faee4a56"
   },
   "outputs": [
    {
     "data": {
      "text/html": [
       "<div>\n",
       "<style scoped>\n",
       "    .dataframe tbody tr th:only-of-type {\n",
       "        vertical-align: middle;\n",
       "    }\n",
       "\n",
       "    .dataframe tbody tr th {\n",
       "        vertical-align: top;\n",
       "    }\n",
       "\n",
       "    .dataframe thead th {\n",
       "        text-align: right;\n",
       "    }\n",
       "</style>\n",
       "<table border=\"1\" class=\"dataframe\">\n",
       "  <thead>\n",
       "    <tr style=\"text-align: right;\">\n",
       "      <th></th>\n",
       "      <th>movie_id</th>\n",
       "      <th>title</th>\n",
       "      <th>release_date</th>\n",
       "    </tr>\n",
       "  </thead>\n",
       "  <tbody>\n",
       "    <tr>\n",
       "      <th>0</th>\n",
       "      <td>1</td>\n",
       "      <td>Toy Story (1995)</td>\n",
       "      <td>01-Jan-1995</td>\n",
       "    </tr>\n",
       "    <tr>\n",
       "      <th>1</th>\n",
       "      <td>2</td>\n",
       "      <td>GoldenEye (1995)</td>\n",
       "      <td>01-Jan-1995</td>\n",
       "    </tr>\n",
       "    <tr>\n",
       "      <th>2</th>\n",
       "      <td>3</td>\n",
       "      <td>Four Rooms (1995)</td>\n",
       "      <td>01-Jan-1995</td>\n",
       "    </tr>\n",
       "    <tr>\n",
       "      <th>3</th>\n",
       "      <td>4</td>\n",
       "      <td>Get Shorty (1995)</td>\n",
       "      <td>01-Jan-1995</td>\n",
       "    </tr>\n",
       "    <tr>\n",
       "      <th>4</th>\n",
       "      <td>5</td>\n",
       "      <td>Copycat (1995)</td>\n",
       "      <td>01-Jan-1995</td>\n",
       "    </tr>\n",
       "    <tr>\n",
       "      <th>5</th>\n",
       "      <td>6</td>\n",
       "      <td>Shanghai Triad (Yao a yao yao dao waipo qiao) ...</td>\n",
       "      <td>01-Jan-1995</td>\n",
       "    </tr>\n",
       "    <tr>\n",
       "      <th>6</th>\n",
       "      <td>7</td>\n",
       "      <td>Twelve Monkeys (1995)</td>\n",
       "      <td>01-Jan-1995</td>\n",
       "    </tr>\n",
       "    <tr>\n",
       "      <th>7</th>\n",
       "      <td>8</td>\n",
       "      <td>Babe (1995)</td>\n",
       "      <td>01-Jan-1995</td>\n",
       "    </tr>\n",
       "    <tr>\n",
       "      <th>8</th>\n",
       "      <td>9</td>\n",
       "      <td>Dead Man Walking (1995)</td>\n",
       "      <td>01-Jan-1995</td>\n",
       "    </tr>\n",
       "    <tr>\n",
       "      <th>9</th>\n",
       "      <td>10</td>\n",
       "      <td>Richard III (1995)</td>\n",
       "      <td>22-Jan-1996</td>\n",
       "    </tr>\n",
       "  </tbody>\n",
       "</table>\n",
       "</div>"
      ],
      "text/plain": [
       "   movie_id                                              title release_date\n",
       "0         1                                   Toy Story (1995)  01-Jan-1995\n",
       "1         2                                   GoldenEye (1995)  01-Jan-1995\n",
       "2         3                                  Four Rooms (1995)  01-Jan-1995\n",
       "3         4                                  Get Shorty (1995)  01-Jan-1995\n",
       "4         5                                     Copycat (1995)  01-Jan-1995\n",
       "5         6  Shanghai Triad (Yao a yao yao dao waipo qiao) ...  01-Jan-1995\n",
       "6         7                              Twelve Monkeys (1995)  01-Jan-1995\n",
       "7         8                                        Babe (1995)  01-Jan-1995\n",
       "8         9                            Dead Man Walking (1995)  01-Jan-1995\n",
       "9        10                                 Richard III (1995)  22-Jan-1996"
      ]
     },
     "execution_count": 13,
     "metadata": {},
     "output_type": "execute_result"
    }
   ],
   "source": [
    "# movies\n",
    "u_item_df.head(10)"
   ]
  },
  {
   "cell_type": "code",
   "execution_count": 14,
   "metadata": {
    "colab": {
     "base_uri": "https://localhost:8080/",
     "height": 363
    },
    "id": "FE9hcM9mCewe",
    "outputId": "be668a10-c70d-4808-fd05-870001554d5c"
   },
   "outputs": [
    {
     "data": {
      "text/html": [
       "<div>\n",
       "<style scoped>\n",
       "    .dataframe tbody tr th:only-of-type {\n",
       "        vertical-align: middle;\n",
       "    }\n",
       "\n",
       "    .dataframe tbody tr th {\n",
       "        vertical-align: top;\n",
       "    }\n",
       "\n",
       "    .dataframe thead th {\n",
       "        text-align: right;\n",
       "    }\n",
       "</style>\n",
       "<table border=\"1\" class=\"dataframe\">\n",
       "  <thead>\n",
       "    <tr style=\"text-align: right;\">\n",
       "      <th></th>\n",
       "      <th>user_id</th>\n",
       "      <th>age</th>\n",
       "      <th>gender</th>\n",
       "      <th>occupation</th>\n",
       "    </tr>\n",
       "  </thead>\n",
       "  <tbody>\n",
       "    <tr>\n",
       "      <th>0</th>\n",
       "      <td>1</td>\n",
       "      <td>24</td>\n",
       "      <td>M</td>\n",
       "      <td>technician</td>\n",
       "    </tr>\n",
       "    <tr>\n",
       "      <th>1</th>\n",
       "      <td>2</td>\n",
       "      <td>53</td>\n",
       "      <td>F</td>\n",
       "      <td>other</td>\n",
       "    </tr>\n",
       "    <tr>\n",
       "      <th>2</th>\n",
       "      <td>3</td>\n",
       "      <td>23</td>\n",
       "      <td>M</td>\n",
       "      <td>writer</td>\n",
       "    </tr>\n",
       "    <tr>\n",
       "      <th>3</th>\n",
       "      <td>4</td>\n",
       "      <td>24</td>\n",
       "      <td>M</td>\n",
       "      <td>technician</td>\n",
       "    </tr>\n",
       "    <tr>\n",
       "      <th>4</th>\n",
       "      <td>5</td>\n",
       "      <td>33</td>\n",
       "      <td>F</td>\n",
       "      <td>other</td>\n",
       "    </tr>\n",
       "    <tr>\n",
       "      <th>5</th>\n",
       "      <td>6</td>\n",
       "      <td>42</td>\n",
       "      <td>M</td>\n",
       "      <td>executive</td>\n",
       "    </tr>\n",
       "    <tr>\n",
       "      <th>6</th>\n",
       "      <td>7</td>\n",
       "      <td>57</td>\n",
       "      <td>M</td>\n",
       "      <td>administrator</td>\n",
       "    </tr>\n",
       "    <tr>\n",
       "      <th>7</th>\n",
       "      <td>8</td>\n",
       "      <td>36</td>\n",
       "      <td>M</td>\n",
       "      <td>administrator</td>\n",
       "    </tr>\n",
       "    <tr>\n",
       "      <th>8</th>\n",
       "      <td>9</td>\n",
       "      <td>29</td>\n",
       "      <td>M</td>\n",
       "      <td>student</td>\n",
       "    </tr>\n",
       "    <tr>\n",
       "      <th>9</th>\n",
       "      <td>10</td>\n",
       "      <td>53</td>\n",
       "      <td>M</td>\n",
       "      <td>lawyer</td>\n",
       "    </tr>\n",
       "  </tbody>\n",
       "</table>\n",
       "</div>"
      ],
      "text/plain": [
       "   user_id  age gender     occupation\n",
       "0        1   24      M     technician\n",
       "1        2   53      F          other\n",
       "2        3   23      M         writer\n",
       "3        4   24      M     technician\n",
       "4        5   33      F          other\n",
       "5        6   42      M      executive\n",
       "6        7   57      M  administrator\n",
       "7        8   36      M  administrator\n",
       "8        9   29      M        student\n",
       "9       10   53      M         lawyer"
      ]
     },
     "execution_count": 14,
     "metadata": {},
     "output_type": "execute_result"
    }
   ],
   "source": [
    "# users\n",
    "u_user_df.head(10)"
   ]
  },
  {
   "cell_type": "markdown",
   "metadata": {
    "id": "i38iDIz-DiVj"
   },
   "source": [
    "### Step-D Data Cleaning and Exploration with Pandas  \n",
    "\n",
    "After loading the dataset, it’s important to clean and explore the data to ensure consistency and accuracy. Below are key **pandas** functions for cleaning and understanding the dataset.\n"
   ]
  },
  {
   "cell_type": "markdown",
   "metadata": {
    "id": "4cwmLON4EItA"
   },
   "source": [
    "**Note:** The functions mentioned above are some of the widely used **pandas** functions for data cleaning and exploration. However, it is not necessary that all of these functions will be required in the exercises below. Use them as needed based on the dataset and the specific tasks."
   ]
  },
  {
   "cell_type": "markdown",
   "metadata": {
    "id": "Tn0bLOSACxMP"
   },
   "source": [
    "**Dataframe-1: u_data_df**\n",
    "1. Convert Timestamps into Readable dates.\n",
    "2. Check for missing values. There are no missing values, so proceed to next step."
   ]
  },
  {
   "cell_type": "code",
   "execution_count": 15,
   "metadata": {
    "colab": {
     "base_uri": "https://localhost:8080/",
     "height": 206
    },
    "id": "9MwnDxeeCf8b",
    "outputId": "d9b3126c-f216-4826-dee1-776e974c635c"
   },
   "outputs": [
    {
     "data": {
      "text/html": [
       "<div>\n",
       "<style scoped>\n",
       "    .dataframe tbody tr th:only-of-type {\n",
       "        vertical-align: middle;\n",
       "    }\n",
       "\n",
       "    .dataframe tbody tr th {\n",
       "        vertical-align: top;\n",
       "    }\n",
       "\n",
       "    .dataframe thead th {\n",
       "        text-align: right;\n",
       "    }\n",
       "</style>\n",
       "<table border=\"1\" class=\"dataframe\">\n",
       "  <thead>\n",
       "    <tr style=\"text-align: right;\">\n",
       "      <th></th>\n",
       "      <th>user_id</th>\n",
       "      <th>movie_id</th>\n",
       "      <th>rating</th>\n",
       "      <th>timestamp</th>\n",
       "    </tr>\n",
       "  </thead>\n",
       "  <tbody>\n",
       "    <tr>\n",
       "      <th>0</th>\n",
       "      <td>196</td>\n",
       "      <td>242</td>\n",
       "      <td>3</td>\n",
       "      <td>1997-12-04 15:55:49</td>\n",
       "    </tr>\n",
       "    <tr>\n",
       "      <th>1</th>\n",
       "      <td>186</td>\n",
       "      <td>302</td>\n",
       "      <td>3</td>\n",
       "      <td>1998-04-04 19:22:22</td>\n",
       "    </tr>\n",
       "    <tr>\n",
       "      <th>2</th>\n",
       "      <td>22</td>\n",
       "      <td>377</td>\n",
       "      <td>1</td>\n",
       "      <td>1997-11-07 07:18:36</td>\n",
       "    </tr>\n",
       "    <tr>\n",
       "      <th>3</th>\n",
       "      <td>244</td>\n",
       "      <td>51</td>\n",
       "      <td>2</td>\n",
       "      <td>1997-11-27 05:02:03</td>\n",
       "    </tr>\n",
       "    <tr>\n",
       "      <th>4</th>\n",
       "      <td>166</td>\n",
       "      <td>346</td>\n",
       "      <td>1</td>\n",
       "      <td>1998-02-02 05:33:16</td>\n",
       "    </tr>\n",
       "  </tbody>\n",
       "</table>\n",
       "</div>"
      ],
      "text/plain": [
       "   user_id  movie_id  rating           timestamp\n",
       "0      196       242       3 1997-12-04 15:55:49\n",
       "1      186       302       3 1998-04-04 19:22:22\n",
       "2       22       377       1 1997-11-07 07:18:36\n",
       "3      244        51       2 1997-11-27 05:02:03\n",
       "4      166       346       1 1998-02-02 05:33:16"
      ]
     },
     "execution_count": 15,
     "metadata": {},
     "output_type": "execute_result"
    }
   ],
   "source": [
    "# Timestamp conversion\n",
    "u_data_df['timestamp']=pd.to_datetime(u_data_df['timestamp'],unit='s')\n",
    "u_data_df.head()"
   ]
  },
  {
   "cell_type": "code",
   "execution_count": 16,
   "metadata": {
    "colab": {
     "base_uri": "https://localhost:8080/",
     "height": 209
    },
    "id": "iYf4NM47DL7q",
    "outputId": "ffb7f347-298b-4964-f874-e542c890f6c3"
   },
   "outputs": [
    {
     "data": {
      "text/plain": [
       "user_id      0\n",
       "movie_id     0\n",
       "rating       0\n",
       "timestamp    0\n",
       "dtype: int64"
      ]
     },
     "execution_count": 16,
     "metadata": {},
     "output_type": "execute_result"
    }
   ],
   "source": [
    "# Checking for Missing Values\n",
    "u_data_df.isnull().sum()"
   ]
  },
  {
   "cell_type": "markdown",
   "metadata": {},
   "source": [
    "**Dataframe-2: u_item_df**\n",
    "1. Check for missing values. \n",
    "2. Remove rows with missing values\n",
    "3. Recheck for missing values, and proceed to next step."
   ]
  },
  {
   "cell_type": "code",
   "execution_count": 17,
   "metadata": {
    "colab": {
     "base_uri": "https://localhost:8080/",
     "height": 178
    },
    "id": "hgM78fNaFH2q",
    "outputId": "c0c77756-fa97-4e55-bc21-8d8e846672f1"
   },
   "outputs": [
    {
     "data": {
      "text/plain": [
       "movie_id        0\n",
       "title           0\n",
       "release_date    1\n",
       "dtype: int64"
      ]
     },
     "execution_count": 17,
     "metadata": {},
     "output_type": "execute_result"
    }
   ],
   "source": [
    "#Check for blank or missing values\n",
    "u_item_df.isnull().sum()"
   ]
  },
  {
   "cell_type": "code",
   "execution_count": 18,
   "metadata": {},
   "outputs": [
    {
     "data": {
      "text/plain": [
       "movie_id        0\n",
       "title           0\n",
       "release_date    0\n",
       "dtype: int64"
      ]
     },
     "execution_count": 18,
     "metadata": {},
     "output_type": "execute_result"
    }
   ],
   "source": [
    "# Drop the data rows that had blank or missing values\n",
    "u_item_df.dropna(inplace=True)\n",
    "# Re-check for blank of missing values\n",
    "u_item_df.isnull().sum()"
   ]
  },
  {
   "cell_type": "markdown",
   "metadata": {},
   "source": [
    "**Dataframe-3: u_users_df**\n",
    "1. Check for missing values. \n",
    "2. No rows with missing values\n",
    "3. So, proceed to next step."
   ]
  },
  {
   "cell_type": "code",
   "execution_count": 19,
   "metadata": {
    "colab": {
     "base_uri": "https://localhost:8080/",
     "height": 209
    },
    "id": "jE8J_cajFA5n",
    "outputId": "63618e53-bd70-4e52-deb6-9ca1499f5f00"
   },
   "outputs": [
    {
     "data": {
      "text/plain": [
       "user_id       0\n",
       "age           0\n",
       "gender        0\n",
       "occupation    0\n",
       "dtype: int64"
      ]
     },
     "execution_count": 19,
     "metadata": {},
     "output_type": "execute_result"
    }
   ],
   "source": [
    "# users\n",
    "u_user_df.isnull().sum()\n"
   ]
  },
  {
   "cell_type": "markdown",
   "metadata": {},
   "source": [
    "**Reset Index for all three dataframes, after cleaning**"
   ]
  },
  {
   "cell_type": "code",
   "execution_count": 20,
   "metadata": {},
   "outputs": [],
   "source": [
    "u_data_df.reset_index(drop=True, inplace=True)\n",
    "u_item_df.reset_index(drop=True, inplace=True)\n",
    "u_user_df.reset_index(drop=True, inplace=True)"
   ]
  },
  {
   "cell_type": "markdown",
   "metadata": {
    "id": "1WviFe7iFRoQ"
   },
   "source": [
    "**Print the total number of users, movies, and ratings.**"
   ]
  },
  {
   "cell_type": "code",
   "execution_count": 21,
   "metadata": {
    "colab": {
     "base_uri": "https://localhost:8080/"
    },
    "id": "eR_QgS9aFTPb",
    "outputId": "8ed9b263-ffba-4fa2-e724-7f5872f23172"
   },
   "outputs": [
    {
     "name": "stdout",
     "output_type": "stream",
     "text": [
      "Total Users: 943\n",
      "Total Movies: 1681\n",
      "Total Ratings: 100000\n"
     ]
    }
   ],
   "source": [
    "print(f\"Total Users: { u_user_df.shape[0] }\")\n",
    "print(f\"Total Movies: {u_item_df.shape[0] }\")\n",
    "print(f\"Total Ratings: {u_data_df.shape[0]}\")\n"
   ]
  },
  {
   "cell_type": "markdown",
   "metadata": {
    "id": "NjxACjUgFwsk"
   },
   "source": [
    "## **Part 2: Collaborative Filtering-Based Recommendation**"
   ]
  },
  {
   "cell_type": "markdown",
   "metadata": {
    "id": "AyeSaLpRGYuC"
   },
   "source": [
    "### **Create a User-Item Matrix**"
   ]
  },
  {
   "cell_type": "markdown",
   "metadata": {
    "id": "3tKsv-7XHRq2"
   },
   "source": [
    "#### Instructions for Creating a User-Movie Rating Matrix"
   ]
  },
  {
   "cell_type": "markdown",
   "metadata": {
    "id": "lLayr0YbH4tB"
   },
   "source": [
    "In this exercise, you will create a user-movie rating matrix using **pandas**. This matrix will represent the ratings that users have given to different movies.\n",
    "\n",
    "1. **Dataset Overview**:  \n",
    "\n",
    "2. **Create the User-Movie Rating Matrix**:  \n",
    " \n",
    "3. **Inspect the Matrix**:  \n",
    "  \n",
    "4. **Handle Missing Values**:  \n",
    "  "
   ]
  },
  {
   "cell_type": "markdown",
   "metadata": {
    "id": "E_cdPXYeaD-l"
   },
   "source": [
    "**Create the user-movie rating matrix using the `pivot()` function.**"
   ]
  },
  {
   "cell_type": "code",
   "execution_count": 22,
   "metadata": {
    "colab": {
     "base_uri": "https://localhost:8080/",
     "height": 287
    },
    "id": "Ie858yKEUSfc",
    "outputId": "46dc2488-7a9c-4359-8952-137245949cdb"
   },
   "outputs": [
    {
     "data": {
      "text/html": [
       "<div>\n",
       "<style scoped>\n",
       "    .dataframe tbody tr th:only-of-type {\n",
       "        vertical-align: middle;\n",
       "    }\n",
       "\n",
       "    .dataframe tbody tr th {\n",
       "        vertical-align: top;\n",
       "    }\n",
       "\n",
       "    .dataframe thead th {\n",
       "        text-align: right;\n",
       "    }\n",
       "</style>\n",
       "<table border=\"1\" class=\"dataframe\">\n",
       "  <thead>\n",
       "    <tr style=\"text-align: right;\">\n",
       "      <th>movie_id</th>\n",
       "      <th>1</th>\n",
       "      <th>2</th>\n",
       "      <th>3</th>\n",
       "      <th>4</th>\n",
       "      <th>5</th>\n",
       "      <th>6</th>\n",
       "      <th>7</th>\n",
       "      <th>8</th>\n",
       "      <th>9</th>\n",
       "      <th>10</th>\n",
       "      <th>...</th>\n",
       "      <th>1673</th>\n",
       "      <th>1674</th>\n",
       "      <th>1675</th>\n",
       "      <th>1676</th>\n",
       "      <th>1677</th>\n",
       "      <th>1678</th>\n",
       "      <th>1679</th>\n",
       "      <th>1680</th>\n",
       "      <th>1681</th>\n",
       "      <th>1682</th>\n",
       "    </tr>\n",
       "    <tr>\n",
       "      <th>user_id</th>\n",
       "      <th></th>\n",
       "      <th></th>\n",
       "      <th></th>\n",
       "      <th></th>\n",
       "      <th></th>\n",
       "      <th></th>\n",
       "      <th></th>\n",
       "      <th></th>\n",
       "      <th></th>\n",
       "      <th></th>\n",
       "      <th></th>\n",
       "      <th></th>\n",
       "      <th></th>\n",
       "      <th></th>\n",
       "      <th></th>\n",
       "      <th></th>\n",
       "      <th></th>\n",
       "      <th></th>\n",
       "      <th></th>\n",
       "      <th></th>\n",
       "      <th></th>\n",
       "    </tr>\n",
       "  </thead>\n",
       "  <tbody>\n",
       "    <tr>\n",
       "      <th>1</th>\n",
       "      <td>5.0</td>\n",
       "      <td>3.0</td>\n",
       "      <td>4.0</td>\n",
       "      <td>3.0</td>\n",
       "      <td>3.0</td>\n",
       "      <td>5.0</td>\n",
       "      <td>4.0</td>\n",
       "      <td>1.0</td>\n",
       "      <td>5.0</td>\n",
       "      <td>3.0</td>\n",
       "      <td>...</td>\n",
       "      <td>NaN</td>\n",
       "      <td>NaN</td>\n",
       "      <td>NaN</td>\n",
       "      <td>NaN</td>\n",
       "      <td>NaN</td>\n",
       "      <td>NaN</td>\n",
       "      <td>NaN</td>\n",
       "      <td>NaN</td>\n",
       "      <td>NaN</td>\n",
       "      <td>NaN</td>\n",
       "    </tr>\n",
       "    <tr>\n",
       "      <th>2</th>\n",
       "      <td>4.0</td>\n",
       "      <td>NaN</td>\n",
       "      <td>NaN</td>\n",
       "      <td>NaN</td>\n",
       "      <td>NaN</td>\n",
       "      <td>NaN</td>\n",
       "      <td>NaN</td>\n",
       "      <td>NaN</td>\n",
       "      <td>NaN</td>\n",
       "      <td>2.0</td>\n",
       "      <td>...</td>\n",
       "      <td>NaN</td>\n",
       "      <td>NaN</td>\n",
       "      <td>NaN</td>\n",
       "      <td>NaN</td>\n",
       "      <td>NaN</td>\n",
       "      <td>NaN</td>\n",
       "      <td>NaN</td>\n",
       "      <td>NaN</td>\n",
       "      <td>NaN</td>\n",
       "      <td>NaN</td>\n",
       "    </tr>\n",
       "    <tr>\n",
       "      <th>3</th>\n",
       "      <td>NaN</td>\n",
       "      <td>NaN</td>\n",
       "      <td>NaN</td>\n",
       "      <td>NaN</td>\n",
       "      <td>NaN</td>\n",
       "      <td>NaN</td>\n",
       "      <td>NaN</td>\n",
       "      <td>NaN</td>\n",
       "      <td>NaN</td>\n",
       "      <td>NaN</td>\n",
       "      <td>...</td>\n",
       "      <td>NaN</td>\n",
       "      <td>NaN</td>\n",
       "      <td>NaN</td>\n",
       "      <td>NaN</td>\n",
       "      <td>NaN</td>\n",
       "      <td>NaN</td>\n",
       "      <td>NaN</td>\n",
       "      <td>NaN</td>\n",
       "      <td>NaN</td>\n",
       "      <td>NaN</td>\n",
       "    </tr>\n",
       "    <tr>\n",
       "      <th>4</th>\n",
       "      <td>NaN</td>\n",
       "      <td>NaN</td>\n",
       "      <td>NaN</td>\n",
       "      <td>NaN</td>\n",
       "      <td>NaN</td>\n",
       "      <td>NaN</td>\n",
       "      <td>NaN</td>\n",
       "      <td>NaN</td>\n",
       "      <td>NaN</td>\n",
       "      <td>NaN</td>\n",
       "      <td>...</td>\n",
       "      <td>NaN</td>\n",
       "      <td>NaN</td>\n",
       "      <td>NaN</td>\n",
       "      <td>NaN</td>\n",
       "      <td>NaN</td>\n",
       "      <td>NaN</td>\n",
       "      <td>NaN</td>\n",
       "      <td>NaN</td>\n",
       "      <td>NaN</td>\n",
       "      <td>NaN</td>\n",
       "    </tr>\n",
       "    <tr>\n",
       "      <th>5</th>\n",
       "      <td>4.0</td>\n",
       "      <td>3.0</td>\n",
       "      <td>NaN</td>\n",
       "      <td>NaN</td>\n",
       "      <td>NaN</td>\n",
       "      <td>NaN</td>\n",
       "      <td>NaN</td>\n",
       "      <td>NaN</td>\n",
       "      <td>NaN</td>\n",
       "      <td>NaN</td>\n",
       "      <td>...</td>\n",
       "      <td>NaN</td>\n",
       "      <td>NaN</td>\n",
       "      <td>NaN</td>\n",
       "      <td>NaN</td>\n",
       "      <td>NaN</td>\n",
       "      <td>NaN</td>\n",
       "      <td>NaN</td>\n",
       "      <td>NaN</td>\n",
       "      <td>NaN</td>\n",
       "      <td>NaN</td>\n",
       "    </tr>\n",
       "  </tbody>\n",
       "</table>\n",
       "<p>5 rows × 1682 columns</p>\n",
       "</div>"
      ],
      "text/plain": [
       "movie_id  1     2     3     4     5     6     7     8     9     10    ...  \\\n",
       "user_id                                                               ...   \n",
       "1          5.0   3.0   4.0   3.0   3.0   5.0   4.0   1.0   5.0   3.0  ...   \n",
       "2          4.0   NaN   NaN   NaN   NaN   NaN   NaN   NaN   NaN   2.0  ...   \n",
       "3          NaN   NaN   NaN   NaN   NaN   NaN   NaN   NaN   NaN   NaN  ...   \n",
       "4          NaN   NaN   NaN   NaN   NaN   NaN   NaN   NaN   NaN   NaN  ...   \n",
       "5          4.0   3.0   NaN   NaN   NaN   NaN   NaN   NaN   NaN   NaN  ...   \n",
       "\n",
       "movie_id  1673  1674  1675  1676  1677  1678  1679  1680  1681  1682  \n",
       "user_id                                                               \n",
       "1          NaN   NaN   NaN   NaN   NaN   NaN   NaN   NaN   NaN   NaN  \n",
       "2          NaN   NaN   NaN   NaN   NaN   NaN   NaN   NaN   NaN   NaN  \n",
       "3          NaN   NaN   NaN   NaN   NaN   NaN   NaN   NaN   NaN   NaN  \n",
       "4          NaN   NaN   NaN   NaN   NaN   NaN   NaN   NaN   NaN   NaN  \n",
       "5          NaN   NaN   NaN   NaN   NaN   NaN   NaN   NaN   NaN   NaN  \n",
       "\n",
       "[5 rows x 1682 columns]"
      ]
     },
     "execution_count": 22,
     "metadata": {},
     "output_type": "execute_result"
    }
   ],
   "source": [
    "user_movie_matrix = u_data_df.pivot(index='user_id', columns='movie_id', values='rating')\n",
    "user_movie_matrix.head()"
   ]
  },
  {
   "cell_type": "markdown",
   "metadata": {
    "id": "tyb3h9FmaVGH"
   },
   "source": [
    "**Display the matrix to verify the transformation.**"
   ]
  },
  {
   "cell_type": "code",
   "execution_count": 23,
   "metadata": {
    "colab": {
     "base_uri": "https://localhost:8080/",
     "height": 423
    },
    "id": "16abaOrXabN_",
    "outputId": "219a9142-4e9d-4b2c-a3e1-cb2e9eaea31c"
   },
   "outputs": [
    {
     "data": {
      "text/html": [
       "<div>\n",
       "<style scoped>\n",
       "    .dataframe tbody tr th:only-of-type {\n",
       "        vertical-align: middle;\n",
       "    }\n",
       "\n",
       "    .dataframe tbody tr th {\n",
       "        vertical-align: top;\n",
       "    }\n",
       "\n",
       "    .dataframe thead th {\n",
       "        text-align: right;\n",
       "    }\n",
       "</style>\n",
       "<table border=\"1\" class=\"dataframe\">\n",
       "  <thead>\n",
       "    <tr style=\"text-align: right;\">\n",
       "      <th>movie_id</th>\n",
       "      <th>1</th>\n",
       "      <th>2</th>\n",
       "      <th>3</th>\n",
       "      <th>4</th>\n",
       "      <th>5</th>\n",
       "      <th>6</th>\n",
       "      <th>7</th>\n",
       "      <th>8</th>\n",
       "      <th>9</th>\n",
       "      <th>10</th>\n",
       "      <th>...</th>\n",
       "      <th>1673</th>\n",
       "      <th>1674</th>\n",
       "      <th>1675</th>\n",
       "      <th>1676</th>\n",
       "      <th>1677</th>\n",
       "      <th>1678</th>\n",
       "      <th>1679</th>\n",
       "      <th>1680</th>\n",
       "      <th>1681</th>\n",
       "      <th>1682</th>\n",
       "    </tr>\n",
       "    <tr>\n",
       "      <th>user_id</th>\n",
       "      <th></th>\n",
       "      <th></th>\n",
       "      <th></th>\n",
       "      <th></th>\n",
       "      <th></th>\n",
       "      <th></th>\n",
       "      <th></th>\n",
       "      <th></th>\n",
       "      <th></th>\n",
       "      <th></th>\n",
       "      <th></th>\n",
       "      <th></th>\n",
       "      <th></th>\n",
       "      <th></th>\n",
       "      <th></th>\n",
       "      <th></th>\n",
       "      <th></th>\n",
       "      <th></th>\n",
       "      <th></th>\n",
       "      <th></th>\n",
       "      <th></th>\n",
       "    </tr>\n",
       "  </thead>\n",
       "  <tbody>\n",
       "    <tr>\n",
       "      <th>1</th>\n",
       "      <td>5.0</td>\n",
       "      <td>3.0</td>\n",
       "      <td>4.0</td>\n",
       "      <td>3.0</td>\n",
       "      <td>3.0</td>\n",
       "      <td>5.0</td>\n",
       "      <td>4.0</td>\n",
       "      <td>1.0</td>\n",
       "      <td>5.0</td>\n",
       "      <td>3.0</td>\n",
       "      <td>...</td>\n",
       "      <td>0.0</td>\n",
       "      <td>0.0</td>\n",
       "      <td>0.0</td>\n",
       "      <td>0.0</td>\n",
       "      <td>0.0</td>\n",
       "      <td>0.0</td>\n",
       "      <td>0.0</td>\n",
       "      <td>0.0</td>\n",
       "      <td>0.0</td>\n",
       "      <td>0.0</td>\n",
       "    </tr>\n",
       "    <tr>\n",
       "      <th>2</th>\n",
       "      <td>4.0</td>\n",
       "      <td>0.0</td>\n",
       "      <td>0.0</td>\n",
       "      <td>0.0</td>\n",
       "      <td>0.0</td>\n",
       "      <td>0.0</td>\n",
       "      <td>0.0</td>\n",
       "      <td>0.0</td>\n",
       "      <td>0.0</td>\n",
       "      <td>2.0</td>\n",
       "      <td>...</td>\n",
       "      <td>0.0</td>\n",
       "      <td>0.0</td>\n",
       "      <td>0.0</td>\n",
       "      <td>0.0</td>\n",
       "      <td>0.0</td>\n",
       "      <td>0.0</td>\n",
       "      <td>0.0</td>\n",
       "      <td>0.0</td>\n",
       "      <td>0.0</td>\n",
       "      <td>0.0</td>\n",
       "    </tr>\n",
       "    <tr>\n",
       "      <th>3</th>\n",
       "      <td>0.0</td>\n",
       "      <td>0.0</td>\n",
       "      <td>0.0</td>\n",
       "      <td>0.0</td>\n",
       "      <td>0.0</td>\n",
       "      <td>0.0</td>\n",
       "      <td>0.0</td>\n",
       "      <td>0.0</td>\n",
       "      <td>0.0</td>\n",
       "      <td>0.0</td>\n",
       "      <td>...</td>\n",
       "      <td>0.0</td>\n",
       "      <td>0.0</td>\n",
       "      <td>0.0</td>\n",
       "      <td>0.0</td>\n",
       "      <td>0.0</td>\n",
       "      <td>0.0</td>\n",
       "      <td>0.0</td>\n",
       "      <td>0.0</td>\n",
       "      <td>0.0</td>\n",
       "      <td>0.0</td>\n",
       "    </tr>\n",
       "    <tr>\n",
       "      <th>4</th>\n",
       "      <td>0.0</td>\n",
       "      <td>0.0</td>\n",
       "      <td>0.0</td>\n",
       "      <td>0.0</td>\n",
       "      <td>0.0</td>\n",
       "      <td>0.0</td>\n",
       "      <td>0.0</td>\n",
       "      <td>0.0</td>\n",
       "      <td>0.0</td>\n",
       "      <td>0.0</td>\n",
       "      <td>...</td>\n",
       "      <td>0.0</td>\n",
       "      <td>0.0</td>\n",
       "      <td>0.0</td>\n",
       "      <td>0.0</td>\n",
       "      <td>0.0</td>\n",
       "      <td>0.0</td>\n",
       "      <td>0.0</td>\n",
       "      <td>0.0</td>\n",
       "      <td>0.0</td>\n",
       "      <td>0.0</td>\n",
       "    </tr>\n",
       "    <tr>\n",
       "      <th>5</th>\n",
       "      <td>4.0</td>\n",
       "      <td>3.0</td>\n",
       "      <td>0.0</td>\n",
       "      <td>0.0</td>\n",
       "      <td>0.0</td>\n",
       "      <td>0.0</td>\n",
       "      <td>0.0</td>\n",
       "      <td>0.0</td>\n",
       "      <td>0.0</td>\n",
       "      <td>0.0</td>\n",
       "      <td>...</td>\n",
       "      <td>0.0</td>\n",
       "      <td>0.0</td>\n",
       "      <td>0.0</td>\n",
       "      <td>0.0</td>\n",
       "      <td>0.0</td>\n",
       "      <td>0.0</td>\n",
       "      <td>0.0</td>\n",
       "      <td>0.0</td>\n",
       "      <td>0.0</td>\n",
       "      <td>0.0</td>\n",
       "    </tr>\n",
       "    <tr>\n",
       "      <th>6</th>\n",
       "      <td>4.0</td>\n",
       "      <td>0.0</td>\n",
       "      <td>0.0</td>\n",
       "      <td>0.0</td>\n",
       "      <td>0.0</td>\n",
       "      <td>0.0</td>\n",
       "      <td>2.0</td>\n",
       "      <td>4.0</td>\n",
       "      <td>4.0</td>\n",
       "      <td>0.0</td>\n",
       "      <td>...</td>\n",
       "      <td>0.0</td>\n",
       "      <td>0.0</td>\n",
       "      <td>0.0</td>\n",
       "      <td>0.0</td>\n",
       "      <td>0.0</td>\n",
       "      <td>0.0</td>\n",
       "      <td>0.0</td>\n",
       "      <td>0.0</td>\n",
       "      <td>0.0</td>\n",
       "      <td>0.0</td>\n",
       "    </tr>\n",
       "    <tr>\n",
       "      <th>7</th>\n",
       "      <td>0.0</td>\n",
       "      <td>0.0</td>\n",
       "      <td>0.0</td>\n",
       "      <td>5.0</td>\n",
       "      <td>0.0</td>\n",
       "      <td>0.0</td>\n",
       "      <td>5.0</td>\n",
       "      <td>5.0</td>\n",
       "      <td>5.0</td>\n",
       "      <td>4.0</td>\n",
       "      <td>...</td>\n",
       "      <td>0.0</td>\n",
       "      <td>0.0</td>\n",
       "      <td>0.0</td>\n",
       "      <td>0.0</td>\n",
       "      <td>0.0</td>\n",
       "      <td>0.0</td>\n",
       "      <td>0.0</td>\n",
       "      <td>0.0</td>\n",
       "      <td>0.0</td>\n",
       "      <td>0.0</td>\n",
       "    </tr>\n",
       "    <tr>\n",
       "      <th>8</th>\n",
       "      <td>0.0</td>\n",
       "      <td>0.0</td>\n",
       "      <td>0.0</td>\n",
       "      <td>0.0</td>\n",
       "      <td>0.0</td>\n",
       "      <td>0.0</td>\n",
       "      <td>3.0</td>\n",
       "      <td>0.0</td>\n",
       "      <td>0.0</td>\n",
       "      <td>0.0</td>\n",
       "      <td>...</td>\n",
       "      <td>0.0</td>\n",
       "      <td>0.0</td>\n",
       "      <td>0.0</td>\n",
       "      <td>0.0</td>\n",
       "      <td>0.0</td>\n",
       "      <td>0.0</td>\n",
       "      <td>0.0</td>\n",
       "      <td>0.0</td>\n",
       "      <td>0.0</td>\n",
       "      <td>0.0</td>\n",
       "    </tr>\n",
       "    <tr>\n",
       "      <th>9</th>\n",
       "      <td>0.0</td>\n",
       "      <td>0.0</td>\n",
       "      <td>0.0</td>\n",
       "      <td>0.0</td>\n",
       "      <td>0.0</td>\n",
       "      <td>5.0</td>\n",
       "      <td>4.0</td>\n",
       "      <td>0.0</td>\n",
       "      <td>0.0</td>\n",
       "      <td>0.0</td>\n",
       "      <td>...</td>\n",
       "      <td>0.0</td>\n",
       "      <td>0.0</td>\n",
       "      <td>0.0</td>\n",
       "      <td>0.0</td>\n",
       "      <td>0.0</td>\n",
       "      <td>0.0</td>\n",
       "      <td>0.0</td>\n",
       "      <td>0.0</td>\n",
       "      <td>0.0</td>\n",
       "      <td>0.0</td>\n",
       "    </tr>\n",
       "    <tr>\n",
       "      <th>10</th>\n",
       "      <td>4.0</td>\n",
       "      <td>0.0</td>\n",
       "      <td>0.0</td>\n",
       "      <td>4.0</td>\n",
       "      <td>0.0</td>\n",
       "      <td>0.0</td>\n",
       "      <td>4.0</td>\n",
       "      <td>0.0</td>\n",
       "      <td>4.0</td>\n",
       "      <td>0.0</td>\n",
       "      <td>...</td>\n",
       "      <td>0.0</td>\n",
       "      <td>0.0</td>\n",
       "      <td>0.0</td>\n",
       "      <td>0.0</td>\n",
       "      <td>0.0</td>\n",
       "      <td>0.0</td>\n",
       "      <td>0.0</td>\n",
       "      <td>0.0</td>\n",
       "      <td>0.0</td>\n",
       "      <td>0.0</td>\n",
       "    </tr>\n",
       "  </tbody>\n",
       "</table>\n",
       "<p>10 rows × 1682 columns</p>\n",
       "</div>"
      ],
      "text/plain": [
       "movie_id  1     2     3     4     5     6     7     8     9     10    ...  \\\n",
       "user_id                                                               ...   \n",
       "1          5.0   3.0   4.0   3.0   3.0   5.0   4.0   1.0   5.0   3.0  ...   \n",
       "2          4.0   0.0   0.0   0.0   0.0   0.0   0.0   0.0   0.0   2.0  ...   \n",
       "3          0.0   0.0   0.0   0.0   0.0   0.0   0.0   0.0   0.0   0.0  ...   \n",
       "4          0.0   0.0   0.0   0.0   0.0   0.0   0.0   0.0   0.0   0.0  ...   \n",
       "5          4.0   3.0   0.0   0.0   0.0   0.0   0.0   0.0   0.0   0.0  ...   \n",
       "6          4.0   0.0   0.0   0.0   0.0   0.0   2.0   4.0   4.0   0.0  ...   \n",
       "7          0.0   0.0   0.0   5.0   0.0   0.0   5.0   5.0   5.0   4.0  ...   \n",
       "8          0.0   0.0   0.0   0.0   0.0   0.0   3.0   0.0   0.0   0.0  ...   \n",
       "9          0.0   0.0   0.0   0.0   0.0   5.0   4.0   0.0   0.0   0.0  ...   \n",
       "10         4.0   0.0   0.0   4.0   0.0   0.0   4.0   0.0   4.0   0.0  ...   \n",
       "\n",
       "movie_id  1673  1674  1675  1676  1677  1678  1679  1680  1681  1682  \n",
       "user_id                                                               \n",
       "1          0.0   0.0   0.0   0.0   0.0   0.0   0.0   0.0   0.0   0.0  \n",
       "2          0.0   0.0   0.0   0.0   0.0   0.0   0.0   0.0   0.0   0.0  \n",
       "3          0.0   0.0   0.0   0.0   0.0   0.0   0.0   0.0   0.0   0.0  \n",
       "4          0.0   0.0   0.0   0.0   0.0   0.0   0.0   0.0   0.0   0.0  \n",
       "5          0.0   0.0   0.0   0.0   0.0   0.0   0.0   0.0   0.0   0.0  \n",
       "6          0.0   0.0   0.0   0.0   0.0   0.0   0.0   0.0   0.0   0.0  \n",
       "7          0.0   0.0   0.0   0.0   0.0   0.0   0.0   0.0   0.0   0.0  \n",
       "8          0.0   0.0   0.0   0.0   0.0   0.0   0.0   0.0   0.0   0.0  \n",
       "9          0.0   0.0   0.0   0.0   0.0   0.0   0.0   0.0   0.0   0.0  \n",
       "10         0.0   0.0   0.0   0.0   0.0   0.0   0.0   0.0   0.0   0.0  \n",
       "\n",
       "[10 rows x 1682 columns]"
      ]
     },
     "execution_count": 23,
     "metadata": {},
     "output_type": "execute_result"
    }
   ],
   "source": [
    "user_movie_matrix.fillna(0,inplace=True)\n",
    "user_movie_matrix.head(10)"
   ]
  },
  {
   "cell_type": "markdown",
   "metadata": {
    "id": "fOXp00QSbtHk"
   },
   "source": [
    "### **User-Based Collaborative Filtering Recommender System**"
   ]
  },
  {
   "cell_type": "markdown",
   "metadata": {
    "id": "FwKBZk5Sc7YA"
   },
   "source": [
    "#### **Objective**\n",
    "In this task, you will implement a **user-based collaborative filtering** movie recommendation system using the **Movie dataset**. The goal is to recommend movies to a user based on the preferences of similar users."
   ]
  },
  {
   "cell_type": "markdown",
   "metadata": {
    "id": "qzJNshMbdwyR"
   },
   "source": [
    "##### **Step 2: Compute User-User Similarity**\n",
    "- We will use **cosine similarity** to measure how similar each pair of users is based on their movie ratings.\n",
    "- Since `cosine_similarity` does not handle missing values (NaN), replace them with `0` before computation."
   ]
  },
  {
   "cell_type": "code",
   "execution_count": 24,
   "metadata": {
    "id": "QoMufNT-4Bsy"
   },
   "outputs": [],
   "source": [
    "user_similarity = cosine_similarity(user_movie_matrix.fillna(0))\n",
    "user_sim_df = pd.DataFrame(user_similarity, index=user_movie_matrix.index, columns=user_movie_matrix.index)"
   ]
  },
  {
   "cell_type": "markdown",
   "metadata": {
    "id": "NtmluaSGeBE-"
   },
   "source": [
    "##### **Step 3: Implement the Recommendation Function**\n",
    "Implementation of function `recommend_movies_for_user(user_id, num=5)` to recommend movies for a given user.\n"
   ]
  },
  {
   "cell_type": "code",
   "execution_count": 25,
   "metadata": {
    "id": "V7P-6Kg94dcx"
   },
   "outputs": [],
   "source": [
    "def recommend_movies_for_user(user_id, num=5):\n",
    "  similar_users=user_sim_df[user_id].sort_values(ascending=False)[1:].head(num)\n",
    "  movie_ratings=user_movie_matrix.loc[similar_users.index]\n",
    "  avg_ratings=movie_ratings.mean()\n",
    "  top_movies=avg_ratings.sort_values(ascending=False).head(num)\n",
    "  movie_names=u_item_df.loc[top_movies.index]['title']\n",
    "  result_df=pd.DataFrame({'Ranking':range(1,num+1),'Movie Name':movie_names})\n",
    "  result_df.set_index('Ranking',inplace=True)\n",
    "  return result_df\n"
   ]
  },
  {
   "cell_type": "markdown",
   "metadata": {
    "id": "SgO0zd8LeGJ_"
   },
   "source": [
    "##### **Step 4: Return the Final Recommendation List**\n"
   ]
  },
  {
   "cell_type": "code",
   "execution_count": 26,
   "metadata": {
    "colab": {
     "base_uri": "https://localhost:8080/",
     "height": 237
    },
    "id": "KOzw5apG501R",
    "outputId": "b3c640af-b556-4094-b96b-e4e61137aef1"
   },
   "outputs": [
    {
     "data": {
      "text/html": [
       "<div>\n",
       "<style scoped>\n",
       "    .dataframe tbody tr th:only-of-type {\n",
       "        vertical-align: middle;\n",
       "    }\n",
       "\n",
       "    .dataframe tbody tr th {\n",
       "        vertical-align: top;\n",
       "    }\n",
       "\n",
       "    .dataframe thead th {\n",
       "        text-align: right;\n",
       "    }\n",
       "</style>\n",
       "<table border=\"1\" class=\"dataframe\">\n",
       "  <thead>\n",
       "    <tr style=\"text-align: right;\">\n",
       "      <th></th>\n",
       "      <th>Movie Name</th>\n",
       "    </tr>\n",
       "    <tr>\n",
       "      <th>Ranking</th>\n",
       "      <th></th>\n",
       "    </tr>\n",
       "  </thead>\n",
       "  <tbody>\n",
       "    <tr>\n",
       "      <th>1</th>\n",
       "      <td>2001: A Space Odyssey (1968)</td>\n",
       "    </tr>\n",
       "    <tr>\n",
       "      <th>2</th>\n",
       "      <td>Apartment, The (1960)</td>\n",
       "    </tr>\n",
       "    <tr>\n",
       "      <th>3</th>\n",
       "      <td>Legends of the Fall (1994)</td>\n",
       "    </tr>\n",
       "    <tr>\n",
       "      <th>4</th>\n",
       "      <td>Third Man, The (1949)</td>\n",
       "    </tr>\n",
       "    <tr>\n",
       "      <th>5</th>\n",
       "      <td>Fly Away Home (1996)</td>\n",
       "    </tr>\n",
       "  </tbody>\n",
       "</table>\n",
       "</div>"
      ],
      "text/plain": [
       "                           Movie Name\n",
       "Ranking                              \n",
       "1        2001: A Space Odyssey (1968)\n",
       "2               Apartment, The (1960)\n",
       "3          Legends of the Fall (1994)\n",
       "4               Third Man, The (1949)\n",
       "5                Fly Away Home (1996)"
      ]
     },
     "execution_count": 26,
     "metadata": {},
     "output_type": "execute_result"
    }
   ],
   "source": [
    "recommend_movies_for_user(7, num = 5)"
   ]
  },
  {
   "cell_type": "markdown",
   "metadata": {
    "id": "MIN3XqC0eUAu"
   },
   "source": [
    "### **Item-Based Collaborative Filtering Recommender System**"
   ]
  },
  {
   "cell_type": "markdown",
   "metadata": {
    "id": "ytqWK-4ze2aA"
   },
   "source": [
    "#### **Objective**\n",
    "In this task, you will implement an **item-based collaborative filtering** recommendation system using the **Movie dataset**. The goal is to recommend movies similar to a given movie based on user rating patterns."
   ]
  },
  {
   "cell_type": "markdown",
   "metadata": {
    "id": "b9oy7pojf19r"
   },
   "source": [
    "##### **Step 1: Compute Item-Item Similarity**\n",
    "- We will use **cosine similarity** to measure how similar each pair of movies is based on their user ratings."
   ]
  },
  {
   "cell_type": "code",
   "execution_count": 27,
   "metadata": {
    "id": "l1K79akTebWa"
   },
   "outputs": [],
   "source": [
    "# Code the function here\n",
    "item_similarity = cosine_similarity(user_movie_matrix.T.fillna(0))\n",
    "item_sim_df = pd.DataFrame(item_similarity, index=user_movie_matrix.columns, columns=user_movie_matrix.columns)"
   ]
  },
  {
   "cell_type": "markdown",
   "metadata": {
    "id": "L8k80idUgDWW"
   },
   "source": [
    "##### **Step 2: Implement the Recommendation Function**\n",
    "Implementation of the function `recommend_movies(movie_name, num=5)` to recommend movies similar to a given movie.\n"
   ]
  },
  {
   "cell_type": "code",
   "execution_count": 28,
   "metadata": {
    "id": "YUnZR2urMSzX"
   },
   "outputs": [],
   "source": [
    "def recommend_movies(movie_name, num=5):\n",
    "  if movie_name not in u_item_df['title'].values:\n",
    "    return \"Movie not found in the dataset.\"\n",
    "  else:\n",
    "    movie_id=u_item_df[u_item_df['title']==movie_name]['movie_id'].values[0]\n",
    "    similar_movies=item_sim_df[movie_id].sort_values(ascending=False)[1:].head(num)\n",
    "    movie_names=u_item_df.loc[similar_movies.index]['title']\n",
    "    result_df=pd.DataFrame({'Ranking':range(1,num+1),'Movie Name':movie_names})\n",
    "    result_df.set_index('Ranking',inplace=True)\n",
    "    return result_df\n"
   ]
  },
  {
   "cell_type": "markdown",
   "metadata": {
    "id": "kNRZQWQkgLPf"
   },
   "source": [
    "##### **Step 3: Return the Final Recommendation List**\n"
   ]
  },
  {
   "cell_type": "code",
   "execution_count": 29,
   "metadata": {
    "colab": {
     "base_uri": "https://localhost:8080/",
     "height": 237
    },
    "id": "9dDy0IYmOFVa",
    "outputId": "4f0f21a4-81bd-45ba-f721-2c8d62ae31ee"
   },
   "outputs": [
    {
     "data": {
      "text/html": [
       "<div>\n",
       "<style scoped>\n",
       "    .dataframe tbody tr th:only-of-type {\n",
       "        vertical-align: middle;\n",
       "    }\n",
       "\n",
       "    .dataframe tbody tr th {\n",
       "        vertical-align: top;\n",
       "    }\n",
       "\n",
       "    .dataframe thead th {\n",
       "        text-align: right;\n",
       "    }\n",
       "</style>\n",
       "<table border=\"1\" class=\"dataframe\">\n",
       "  <thead>\n",
       "    <tr style=\"text-align: right;\">\n",
       "      <th></th>\n",
       "      <th>Movie Name</th>\n",
       "    </tr>\n",
       "    <tr>\n",
       "      <th>Ranking</th>\n",
       "      <th></th>\n",
       "    </tr>\n",
       "  </thead>\n",
       "  <tbody>\n",
       "    <tr>\n",
       "      <th>1</th>\n",
       "      <td>On Golden Pond (1981)</td>\n",
       "    </tr>\n",
       "    <tr>\n",
       "      <th>2</th>\n",
       "      <td>Wyatt Earp (1994)</td>\n",
       "    </tr>\n",
       "    <tr>\n",
       "      <th>3</th>\n",
       "      <td>Brazil (1985)</td>\n",
       "    </tr>\n",
       "    <tr>\n",
       "      <th>4</th>\n",
       "      <td>Princess Bride, The (1987)</td>\n",
       "    </tr>\n",
       "    <tr>\n",
       "      <th>5</th>\n",
       "      <td>M*A*S*H (1970)</td>\n",
       "    </tr>\n",
       "  </tbody>\n",
       "</table>\n",
       "</div>"
      ],
      "text/plain": [
       "                         Movie Name\n",
       "Ranking                            \n",
       "1             On Golden Pond (1981)\n",
       "2                 Wyatt Earp (1994)\n",
       "3                     Brazil (1985)\n",
       "4        Princess Bride, The (1987)\n",
       "5                    M*A*S*H (1970)"
      ]
     },
     "execution_count": 29,
     "metadata": {},
     "output_type": "execute_result"
    }
   ],
   "source": [
    "recommend_movies(\"Jurassic Park (1993)\", num=5)"
   ]
  },
  {
   "cell_type": "code",
   "execution_count": 30,
   "metadata": {
    "colab": {
     "base_uri": "https://localhost:8080/",
     "height": 36
    },
    "id": "LKApkIqAPJtE",
    "outputId": "f3cb9efa-1d27-4043-92d4-c366b3df1f69"
   },
   "outputs": [
    {
     "data": {
      "text/html": [
       "<div>\n",
       "<style scoped>\n",
       "    .dataframe tbody tr th:only-of-type {\n",
       "        vertical-align: middle;\n",
       "    }\n",
       "\n",
       "    .dataframe tbody tr th {\n",
       "        vertical-align: top;\n",
       "    }\n",
       "\n",
       "    .dataframe thead th {\n",
       "        text-align: right;\n",
       "    }\n",
       "</style>\n",
       "<table border=\"1\" class=\"dataframe\">\n",
       "  <thead>\n",
       "    <tr style=\"text-align: right;\">\n",
       "      <th></th>\n",
       "      <th>Movie Name</th>\n",
       "    </tr>\n",
       "    <tr>\n",
       "      <th>Ranking</th>\n",
       "      <th></th>\n",
       "    </tr>\n",
       "  </thead>\n",
       "  <tbody>\n",
       "    <tr>\n",
       "      <th>1</th>\n",
       "      <td>So I Married an Axe Murderer (1993)</td>\n",
       "    </tr>\n",
       "    <tr>\n",
       "      <th>2</th>\n",
       "      <td>Mr. Smith Goes to Washington (1939)</td>\n",
       "    </tr>\n",
       "    <tr>\n",
       "      <th>3</th>\n",
       "      <td>Indiana Jones and the Last Crusade (1989)</td>\n",
       "    </tr>\n",
       "    <tr>\n",
       "      <th>4</th>\n",
       "      <td>Wrong Trousers, The (1993)</td>\n",
       "    </tr>\n",
       "    <tr>\n",
       "      <th>5</th>\n",
       "      <td>First Wives Club, The (1996)</td>\n",
       "    </tr>\n",
       "  </tbody>\n",
       "</table>\n",
       "</div>"
      ],
      "text/plain": [
       "                                        Movie Name\n",
       "Ranking                                           \n",
       "1              So I Married an Axe Murderer (1993)\n",
       "2              Mr. Smith Goes to Washington (1939)\n",
       "3        Indiana Jones and the Last Crusade (1989)\n",
       "4                       Wrong Trousers, The (1993)\n",
       "5                     First Wives Club, The (1996)"
      ]
     },
     "execution_count": 30,
     "metadata": {},
     "output_type": "execute_result"
    }
   ],
   "source": [
    "recommend_movies(\"Brazil (1985)\", num=5)"
   ]
  },
  {
   "cell_type": "markdown",
   "metadata": {
    "id": "YhZXLz7Rh_VC"
   },
   "source": [
    "## **Part 3: Graph-Based Recommender (Pixie-Inspired Algorithm)**"
   ]
  },
  {
   "cell_type": "markdown",
   "metadata": {
    "id": "CFF1tUDsipIX",
    "jp-MarkdownHeadingCollapsed": true
   },
   "source": [
    "##### **Goal is to Create a Graph for Adjacency List**\n",
    "In this task, you will preprocess the Movie dataset and construct a **graph representation** where:\n",
    "- **Users** are connected to the movies they have rated.\n",
    "- **Movies** are connected to users who have rated them.\n",
    "  \n",
    "This graph structure will help in exploring **user-movie relationships** for recommendations."
   ]
  },
  {
   "cell_type": "markdown",
   "metadata": {
    "id": "-3OPInjhkUzy"
   },
   "source": [
    "##### **Step 1: Merge Ratings with Movie Titles**\n"
   ]
  },
  {
   "cell_type": "code",
   "execution_count": 31,
   "metadata": {
    "id": "b4V2aL4DiMM4"
   },
   "outputs": [],
   "source": [
    "# Code the function here\n",
    "\n",
    "ratings_df = u_data_df.merge(u_item_df, on='movie_id')"
   ]
  },
  {
   "cell_type": "markdown",
   "metadata": {
    "id": "3OPUXyNVkfHr"
   },
   "source": [
    "##### **Step 2: Aggregate Ratings**"
   ]
  },
  {
   "cell_type": "code",
   "execution_count": 32,
   "metadata": {
    "colab": {
     "base_uri": "https://localhost:8080/",
     "height": 206
    },
    "id": "NH06nOONQIph",
    "outputId": "7f076295-77a3-4fc0-9a5e-f336ca488db1"
   },
   "outputs": [
    {
     "data": {
      "text/html": [
       "<div>\n",
       "<style scoped>\n",
       "    .dataframe tbody tr th:only-of-type {\n",
       "        vertical-align: middle;\n",
       "    }\n",
       "\n",
       "    .dataframe tbody tr th {\n",
       "        vertical-align: top;\n",
       "    }\n",
       "\n",
       "    .dataframe thead th {\n",
       "        text-align: right;\n",
       "    }\n",
       "</style>\n",
       "<table border=\"1\" class=\"dataframe\">\n",
       "  <thead>\n",
       "    <tr style=\"text-align: right;\">\n",
       "      <th></th>\n",
       "      <th>user_id</th>\n",
       "      <th>movie_id</th>\n",
       "      <th>title</th>\n",
       "      <th>rating</th>\n",
       "    </tr>\n",
       "  </thead>\n",
       "  <tbody>\n",
       "    <tr>\n",
       "      <th>0</th>\n",
       "      <td>1</td>\n",
       "      <td>1</td>\n",
       "      <td>Toy Story (1995)</td>\n",
       "      <td>5.0</td>\n",
       "    </tr>\n",
       "    <tr>\n",
       "      <th>1</th>\n",
       "      <td>1</td>\n",
       "      <td>2</td>\n",
       "      <td>GoldenEye (1995)</td>\n",
       "      <td>3.0</td>\n",
       "    </tr>\n",
       "    <tr>\n",
       "      <th>2</th>\n",
       "      <td>1</td>\n",
       "      <td>3</td>\n",
       "      <td>Four Rooms (1995)</td>\n",
       "      <td>4.0</td>\n",
       "    </tr>\n",
       "    <tr>\n",
       "      <th>3</th>\n",
       "      <td>1</td>\n",
       "      <td>4</td>\n",
       "      <td>Get Shorty (1995)</td>\n",
       "      <td>3.0</td>\n",
       "    </tr>\n",
       "    <tr>\n",
       "      <th>4</th>\n",
       "      <td>1</td>\n",
       "      <td>5</td>\n",
       "      <td>Copycat (1995)</td>\n",
       "      <td>3.0</td>\n",
       "    </tr>\n",
       "  </tbody>\n",
       "</table>\n",
       "</div>"
      ],
      "text/plain": [
       "   user_id  movie_id              title  rating\n",
       "0        1         1   Toy Story (1995)     5.0\n",
       "1        1         2   GoldenEye (1995)     3.0\n",
       "2        1         3  Four Rooms (1995)     4.0\n",
       "3        1         4  Get Shorty (1995)     3.0\n",
       "4        1         5     Copycat (1995)     3.0"
      ]
     },
     "execution_count": 32,
     "metadata": {},
     "output_type": "execute_result"
    }
   ],
   "source": [
    "ratings_df = ratings_df.groupby(['user_id', 'movie_id', 'title'])['rating'].mean().reset_index()\n",
    "ratings_df.head(5)"
   ]
  },
  {
   "cell_type": "markdown",
   "metadata": {
    "id": "NU1fB66WkqEO"
   },
   "source": [
    "##### **Step 3: Normalize Ratings**\n"
   ]
  },
  {
   "cell_type": "code",
   "execution_count": 33,
   "metadata": {
    "colab": {
     "base_uri": "https://localhost:8080/",
     "height": 206
    },
    "id": "3qS6lr7FQHHx",
    "outputId": "375d2a66-7c63-4b0c-b000-01de5271a257"
   },
   "outputs": [
    {
     "data": {
      "text/html": [
       "<div>\n",
       "<style scoped>\n",
       "    .dataframe tbody tr th:only-of-type {\n",
       "        vertical-align: middle;\n",
       "    }\n",
       "\n",
       "    .dataframe tbody tr th {\n",
       "        vertical-align: top;\n",
       "    }\n",
       "\n",
       "    .dataframe thead th {\n",
       "        text-align: right;\n",
       "    }\n",
       "</style>\n",
       "<table border=\"1\" class=\"dataframe\">\n",
       "  <thead>\n",
       "    <tr style=\"text-align: right;\">\n",
       "      <th></th>\n",
       "      <th>user_id</th>\n",
       "      <th>movie_id</th>\n",
       "      <th>title</th>\n",
       "      <th>rating</th>\n",
       "    </tr>\n",
       "  </thead>\n",
       "  <tbody>\n",
       "    <tr>\n",
       "      <th>0</th>\n",
       "      <td>1</td>\n",
       "      <td>1</td>\n",
       "      <td>Toy Story (1995)</td>\n",
       "      <td>1.391144</td>\n",
       "    </tr>\n",
       "    <tr>\n",
       "      <th>1</th>\n",
       "      <td>1</td>\n",
       "      <td>2</td>\n",
       "      <td>GoldenEye (1995)</td>\n",
       "      <td>-0.608856</td>\n",
       "    </tr>\n",
       "    <tr>\n",
       "      <th>2</th>\n",
       "      <td>1</td>\n",
       "      <td>3</td>\n",
       "      <td>Four Rooms (1995)</td>\n",
       "      <td>0.391144</td>\n",
       "    </tr>\n",
       "    <tr>\n",
       "      <th>3</th>\n",
       "      <td>1</td>\n",
       "      <td>4</td>\n",
       "      <td>Get Shorty (1995)</td>\n",
       "      <td>-0.608856</td>\n",
       "    </tr>\n",
       "    <tr>\n",
       "      <th>4</th>\n",
       "      <td>1</td>\n",
       "      <td>5</td>\n",
       "      <td>Copycat (1995)</td>\n",
       "      <td>-0.608856</td>\n",
       "    </tr>\n",
       "  </tbody>\n",
       "</table>\n",
       "</div>"
      ],
      "text/plain": [
       "   user_id  movie_id              title    rating\n",
       "0        1         1   Toy Story (1995)  1.391144\n",
       "1        1         2   GoldenEye (1995) -0.608856\n",
       "2        1         3  Four Rooms (1995)  0.391144\n",
       "3        1         4  Get Shorty (1995) -0.608856\n",
       "4        1         5     Copycat (1995) -0.608856"
      ]
     },
     "execution_count": 33,
     "metadata": {},
     "output_type": "execute_result"
    }
   ],
   "source": [
    "ratings_df['rating'] = ratings_df.groupby('user_id')['rating'].transform(lambda x: x - x.mean())\n",
    "ratings_df.head(5)"
   ]
  },
  {
   "cell_type": "markdown",
   "metadata": {
    "id": "79NB8zIWkvWP"
   },
   "source": [
    "##### **Step 4: Construct the Graph Representation**\n"
   ]
  },
  {
   "cell_type": "code",
   "execution_count": 34,
   "metadata": {
    "id": "Uj2pEp0kQ-Gb"
   },
   "outputs": [],
   "source": [
    "graph = {}\n",
    "for _, row in ratings_df.iterrows():\n",
    "    user, movie = row['user_id'], row['title']\n",
    "    # user = 'u-' + str(user)\n",
    "    if user not in graph:\n",
    "        graph[user] = set()\n",
    "    if movie not in graph:\n",
    "        graph[movie] = set()\n",
    "    graph[user].add(movie)\n",
    "    graph[movie].add(user)\n"
   ]
  },
  {
   "cell_type": "markdown",
   "metadata": {
    "id": "wEuVgjAAk4KV",
    "jp-MarkdownHeadingCollapsed": true
   },
   "source": [
    "##### **Step 5: Understanding the Graph**\n",
    "- **Nodes** in the graph represent **users and movies**.\n",
    "- **Edges** exist between a user and a movie **if the user has rated the movie**.\n",
    "- This structure allows us to find **users with similar movie tastes** and **movies frequently watched together**."
   ]
  },
  {
   "cell_type": "markdown",
   "metadata": {},
   "source": [
    "##### **Step 6: Exploring the Graph**"
   ]
  },
  {
   "cell_type": "code",
   "execution_count": 35,
   "metadata": {
    "colab": {
     "base_uri": "https://localhost:8080/"
    },
    "id": "9nQRZ0_CRd9O",
    "outputId": "f856ac35-4b9e-4444-8a91-c31a6e5ff241"
   },
   "outputs": [
    {
     "name": "stdout",
     "output_type": "stream",
     "text": [
      "{'Fish Called Wanda, A (1988)', 'Burnt Offerings (1976)', 'Rumble in the Bronx (1995)', 'True Lies (1994)', 'Thinner (1996)', 'Sudden Death (1995)', 'Day the Earth Stood Still, The (1951)', 'Star Trek V: The Final Frontier (1989)', 'Back to the Future (1985)', 'Jaws 2 (1978)', 'Wrong Trousers, The (1993)', 'Heathers (1989)', 'Adventures of Priscilla, Queen of the Desert, The (1994)', 'Highlander (1986)', 'Parent Trap, The (1961)', 'Star Trek: Generations (1994)', 'Psycho (1960)', 'Bob Roberts (1992)', 'Batman Forever (1995)', 'Willy Wonka and the Chocolate Factory (1971)', 'Apple Dumpling Gang, The (1975)', \"William Shakespeare's Romeo and Juliet (1996)\", 'Miracle on 34th Street (1994)', 'Santa Clause, The (1994)', 'Amityville II: The Possession (1982)', 'Home Alone (1990)', 'Love Bug, The (1969)', 'Jeffrey (1995)', 'Age of Innocence, The (1993)', 'Clerks (1994)', 'Blade Runner (1982)', 'Return of the Pink Panther, The (1974)', 'Toy Story (1995)', 'Naked Gun 33 1/3: The Final Insult (1994)', 'Brady Bunch Movie, The (1995)', 'Robin Hood: Men in Tights (1993)', 'Duck Soup (1933)', 'Private Benjamin (1980)', 'Clueless (1995)', 'My Favorite Year (1982)', 'Nutty Professor, The (1996)', 'Amityville: A New Generation (1993)', 'Children of the Corn: The Gathering (1996)', 'Lawnmower Man, The (1992)', 'Mary Poppins (1964)', \"Jackie Chan's First Strike (1996)\", 'Indiana Jones and the Last Crusade (1989)', 'Star Wars (1977)', 'Old Yeller (1957)', 'Mighty Morphin Power Rangers: The Movie (1995)', 'Fear of a Black Hat (1993)', 'Cinderella (1950)', 'Pinocchio (1940)', 'Super Mario Bros. (1993)', 'Amityville 3-D (1983)', 'Little Rascals, The (1994)', 'Batman Returns (1992)', 'Men in Black (1997)', 'Mary Reilly (1996)', 'Snow White and the Seven Dwarfs (1937)', 'Star Trek III: The Search for Spock (1984)', 'Serial Mom (1994)', 'Beverly Hills Cop III (1994)', 'Bastard Out of Carolina (1996)', 'Tales from the Crypt Presents: Bordello of Blood (1996)', 'Birdcage, The (1996)', 'Mrs. Doubtfire (1993)', 'Under Siege (1992)', 'Black Sheep (1996)', 'Hot Shots! Part Deux (1993)', 'Transformers: The Movie, The (1986)', 'Blues Brothers, The (1980)', 'Young Frankenstein (1974)', 'Forbidden Planet (1956)', 'Birds, The (1963)', 'Ghost (1990)', 'Star Trek IV: The Voyage Home (1986)', '2001: A Space Odyssey (1968)', 'Operation Dumbo Drop (1995)', 'Black Beauty (1994)', \"Muriel's Wedding (1994)\", 'Addams Family Values (1993)', 'Fifth Element, The (1997)', 'M*A*S*H (1970)', 'Amityville Horror, The (1979)', 'While You Were Sleeping (1995)', 'Kingpin (1996)', 'Showgirls (1995)', 'Batman (1989)', 'Grand Day Out, A (1992)', 'Sound of Music, The (1965)', 'Sting, The (1973)', 'Star Trek VI: The Undiscovered Country (1991)', 'Muppet Treasure Island (1996)', 'GoldenEye (1995)', 'Beverly Hills Ninja (1997)', '101 Dalmatians (1996)', 'Spy Hard (1996)', 'Forrest Gump (1994)', 'Close Shave, A (1995)', 'Alien (1979)', 'Man Without a Face, The (1993)', 'Powder (1995)', 'Butch Cassidy and the Sundance Kid (1969)', 'So I Married an Axe Murderer (1993)', 'Heavyweights (1994)', 'Three Musketeers, The (1993)', 'Omen, The (1976)', 'Princess Bride, The (1987)', 'Last Action Hero (1993)', \"Monty Python's Life of Brian (1979)\", 'Last of the Mohicans, The (1992)', 'This Is Spinal Tap (1984)', 'Return of the Jedi (1983)', 'E.T. the Extra-Terrestrial (1982)', 'Mission: Impossible (1996)', 'Amityville Curse, The (1990)', 'Ace Ventura: When Nature Calls (1995)', 'Bridges of Madison County, The (1995)', 'Empire Strikes Back, The (1980)', 'Sgt. Bilko (1996)', 'Heavy Metal (1981)', 'Star Trek: First Contact (1996)', 'Aladdin and the King of Thieves (1996)', 'Die Hard 2 (1990)', 'Grease (1978)', 'Raiders of the Lost Ark (1981)', 'George of the Jungle (1997)', 'Harold and Maude (1971)', 'Pink Floyd - The Wall (1982)', 'Fargo (1996)', 'Aristocats, The (1970)', 'Radioland Murders (1994)', 'Striking Distance (1993)', 'Dangerous Minds (1995)', 'Nightmare on Elm Street, A (1984)', 'Bio-Dome (1996)', \"Amityville 1992: It's About Time (1992)\", 'Body Snatcher, The (1945)', 'Aliens (1986)', 'Mars Attacks! (1996)', 'On Golden Pond (1981)', 'Independence Day (ID4) (1996)', 'Silence of the Lambs, The (1991)', 'Aladdin (1992)', 'To Wong Foo, Thanks for Everything! Julie Newmar (1995)', 'American Werewolf in London, An (1981)', 'Stargate (1994)', 'Houseguest (1994)', 'Judge Dredd (1995)', 'Monty Python and the Holy Grail (1974)', 'Shining, The (1980)', 'Sneakers (1992)', 'Mystery Science Theater 3000: The Movie (1996)', 'Star Trek: The Motion Picture (1979)', 'Four Weddings and a Funeral (1994)', 'To Kill a Mockingbird (1962)', 'When Harry Met Sally... (1989)', 'Blob, The (1958)', 'Fantasia (1940)', 'Die Hard (1988)', 'Fugitive, The (1993)', 'Tales From the Crypt Presents: Demon Knight (1995)', 'Very Brady Sequel, A (1996)', 'Free Willy 3: The Rescue (1997)', 'Flintstones, The (1994)', 'From Dusk Till Dawn (1996)', 'Star Trek: The Wrath of Khan (1982)', 'Carrie (1976)', 'Jack (1996)', 'Jaws 3-D (1983)', 'Jaws (1975)', 'Alice in Wonderland (1951)', 'Jungle2Jungle (1997)'}\n"
     ]
    }
   ],
   "source": [
    "# get movie title recommendations for users\n",
    "user_id=5\n",
    "print(graph[user_id])"
   ]
  },
  {
   "cell_type": "code",
   "execution_count": 36,
   "metadata": {
    "colab": {
     "base_uri": "https://localhost:8080/"
    },
    "id": "2QjPuN3IRl8p",
    "outputId": "fe8e896b-3b89-4652-cdd2-70357ecdd8b5",
    "scrolled": true
   },
   "outputs": [
    {
     "name": "stdout",
     "output_type": "stream",
     "text": [
      "{642, 5, 262, 7, 774, 393, 11, 395, 269, 401, 276, 405, 790, 798, 417, 291, 804, 551, 682, 684, 429, 308, 311, 314, 62, 65, 577, 711, 200, 712, 588, 846, 472, 345, 346, 601, 94, 222, 224, 483, 109, 749, 880, 244, 885, 887, 760, 378}\n"
     ]
    }
   ],
   "source": [
    "# get user recommendations for movie titles\n",
    "movie_title = 'Powder (1995)'\n",
    "print(graph[movie_title])"
   ]
  },
  {
   "cell_type": "markdown",
   "metadata": {
    "id": "_ZE31gB7lImI"
   },
   "source": [
    "### **Implement Random Walks (Unweighted)**"
   ]
  },
  {
   "cell_type": "markdown",
   "metadata": {
    "id": "yHe42rlJl9kD",
    "jp-MarkdownHeadingCollapsed": true
   },
   "source": [
    "#### **Random Walk-Based Movie Recommendation System (UnWeighted)**"
   ]
  },
  {
   "cell_type": "markdown",
   "metadata": {
    "id": "jyqptwreo-IP",
    "jp-MarkdownHeadingCollapsed": true
   },
   "source": [
    "#### **Objective**\n",
    "In this task, you will implement a **random-walk-based recommendation algorithm** using the **Weighted Pixie** method. This technique uses a **user-movie bipartite graph** to recommend movies by simulating a random walk from a given user or movie."
   ]
  },
  {
   "cell_type": "markdown",
   "metadata": {
    "id": "jFgyzzdCpfzu"
   },
   "source": [
    "#### **Step 1: Import Required Libraries**\n"
   ]
  },
  {
   "cell_type": "code",
   "execution_count": 37,
   "metadata": {
    "id": "tZD5fjG-lx3b"
   },
   "outputs": [],
   "source": [
    "# Code the function here\n",
    "import random\n",
    "import pandas as pd\n",
    "import sklearn"
   ]
  },
  {
   "cell_type": "code",
   "execution_count": 38,
   "metadata": {
    "id": "Mwj6CeYUR_Bm"
   },
   "outputs": [],
   "source": [
    "# Random Walk simulation - NO WEIGHTS\n",
    "\n",
    "# Let's find movie recommendation for the user_id 5\n",
    "user_id = 5\n",
    "\n",
    "# find the movies that user id has visited:\n",
    "visited_movies=graph[user_id]\n",
    "\n",
    "# randomly pick a movie to start the walk from:\n",
    "current_node=random.choice(list(visited_movies))\n",
    "\n",
    "# start with a walk length of 5000 (High number is for illustration purpose to see evident numbers)\n",
    "walk_length = 5000\n",
    "\n",
    "# start with the visit count dictionary, that keeps track of count of each movie visited during the walk:\n",
    "visit_count={movie:0 for movie in visited_movies}\n",
    "\n",
    "# start walking\n",
    "for _ in range(walk_length):\n",
    "  connected_nodes=graph[current_node]\n",
    "  if not connected_nodes:\n",
    "    break\n",
    "  next_node=random.choice(list(connected_nodes))\n",
    "  if next_node in visit_count:\n",
    "    visit_count[next_node]+=1\n",
    "  current_node=next_node\n",
    "\n",
    "# Review the visit count after the walk\n",
    "# visit_count"
   ]
  },
  {
   "cell_type": "markdown",
   "metadata": {
    "id": "E7D7Pj6trss9"
   },
   "source": [
    "#### **Step 3: Implement User-Based Recommendation**"
   ]
  },
  {
   "cell_type": "code",
   "execution_count": 39,
   "metadata": {},
   "outputs": [],
   "source": [
    "def unweighted_pixie_recommend_userbased(user_id, walk_length=5000, num=5):\n",
    "    \n",
    "\n",
    "    if user_id in graph:\n",
    "        visited_movies=graph[user_id]\n",
    "        current_node=random.choice(list(visited_movies))\n",
    "        visit_count={movie:0 for movie in visited_movies}\n",
    "        for _ in range(walk_length):\n",
    "          connected_nodes=graph[current_node]\n",
    "          if not connected_nodes:\n",
    "            break\n",
    "          next_node=random.choice(list(connected_nodes))\n",
    "          if next_node in visit_count:\n",
    "            visit_count[next_node]+=1\n",
    "          current_node=next_node\n",
    "        ranked_movies=sorted(visit_count,key=visit_count.get,reverse=True)\n",
    "        # ranked_movies = [movie for movie in ranked_movies if movie in u_item_df['movie_id'].values]\n",
    "\n",
    "    else:\n",
    "        return \"User not found in the dataset.\"\n",
    "    \n",
    "    result_df=pd.DataFrame({'Ranking':range(1,num+1),'Movie Name':ranked_movies[:num]})\n",
    "    result_df.set_index('Ranking',inplace=True)\n",
    "    return result_df\n",
    "\n"
   ]
  },
  {
   "cell_type": "markdown",
   "metadata": {},
   "source": [
    "\n",
    "#### **Step 4: Implement Movie-Based Recommendation**"
   ]
  },
  {
   "cell_type": "code",
   "execution_count": 40,
   "metadata": {},
   "outputs": [],
   "source": [
    "def unweighted_pixie_recommend_moviebased(movie_name, walk_length=5000, num=5):\n",
    "  if movie_name not in u_item_df['title'].values:\n",
    "    return \"Movie not found in the dataset.\"\n",
    "  else:\n",
    "    current_node = movie_name\n",
    "    visit_count={movie:0 for movie in u_item_df['title']}\n",
    "    for _ in range(walk_length):\n",
    "      connected_nodes=graph[current_node]\n",
    "      if not connected_nodes:\n",
    "        break\n",
    "\n",
    "      next_node=random.choice(list(connected_nodes))\n",
    "      if next_node in visit_count:\n",
    "        visit_count[next_node]+=1\n",
    "      current_node=next_node\n",
    "    ranked_movies=sorted(visit_count,key=visit_count.get,reverse=True)\n",
    "    # ranked_movies = [movie for movie in ranked_movies if movie in u_item_df['movie_id'].values]\n",
    "    # movie_names = u_item_df.set_index('movie_id').loc[ranked_movies[:num]]['title']\n",
    "    result_df=pd.DataFrame({'Ranking':range(1,num+1),'Movie Name':ranked_movies[:num]})\n",
    "    result_df.set_index('Ranking',inplace=True)\n",
    "    return result_df\n",
    "\n"
   ]
  },
  {
   "cell_type": "markdown",
   "metadata": {
    "id": "qxN_ibCCrCpx"
   },
   "source": [
    "#### **Step 5: Running Your Recommendation System**\n"
   ]
  },
  {
   "cell_type": "markdown",
   "metadata": {},
   "source": [
    "\n",
    "##### **User-Based Recommendation**\n"
   ]
  },
  {
   "cell_type": "code",
   "execution_count": 41,
   "metadata": {},
   "outputs": [
    {
     "data": {
      "text/html": [
       "<div>\n",
       "<style scoped>\n",
       "    .dataframe tbody tr th:only-of-type {\n",
       "        vertical-align: middle;\n",
       "    }\n",
       "\n",
       "    .dataframe tbody tr th {\n",
       "        vertical-align: top;\n",
       "    }\n",
       "\n",
       "    .dataframe thead th {\n",
       "        text-align: right;\n",
       "    }\n",
       "</style>\n",
       "<table border=\"1\" class=\"dataframe\">\n",
       "  <thead>\n",
       "    <tr style=\"text-align: right;\">\n",
       "      <th></th>\n",
       "      <th>Movie Name</th>\n",
       "    </tr>\n",
       "    <tr>\n",
       "      <th>Ranking</th>\n",
       "      <th></th>\n",
       "    </tr>\n",
       "  </thead>\n",
       "  <tbody>\n",
       "    <tr>\n",
       "      <th>1</th>\n",
       "      <td>Fargo (1996)</td>\n",
       "    </tr>\n",
       "    <tr>\n",
       "      <th>2</th>\n",
       "      <td>Contact (1997)</td>\n",
       "    </tr>\n",
       "    <tr>\n",
       "      <th>3</th>\n",
       "      <td>Return of the Jedi (1983)</td>\n",
       "    </tr>\n",
       "    <tr>\n",
       "      <th>4</th>\n",
       "      <td>Silence of the Lambs, The (1991)</td>\n",
       "    </tr>\n",
       "    <tr>\n",
       "      <th>5</th>\n",
       "      <td>Mr. Holland's Opus (1995)</td>\n",
       "    </tr>\n",
       "  </tbody>\n",
       "</table>\n",
       "</div>"
      ],
      "text/plain": [
       "                               Movie Name\n",
       "Ranking                                  \n",
       "1                            Fargo (1996)\n",
       "2                          Contact (1997)\n",
       "3               Return of the Jedi (1983)\n",
       "4        Silence of the Lambs, The (1991)\n",
       "5               Mr. Holland's Opus (1995)"
      ]
     },
     "execution_count": 41,
     "metadata": {},
     "output_type": "execute_result"
    }
   ],
   "source": [
    "\n",
    "# call the function for any user_id\n",
    "unweighted_pixie_recommend_userbased(1)"
   ]
  },
  {
   "cell_type": "markdown",
   "metadata": {},
   "source": [
    "\n",
    "##### **Movie-Based Recommendation**\n"
   ]
  },
  {
   "cell_type": "code",
   "execution_count": 42,
   "metadata": {
    "id": "6nxCnA63V_by"
   },
   "outputs": [
    {
     "data": {
      "text/html": [
       "<div>\n",
       "<style scoped>\n",
       "    .dataframe tbody tr th:only-of-type {\n",
       "        vertical-align: middle;\n",
       "    }\n",
       "\n",
       "    .dataframe tbody tr th {\n",
       "        vertical-align: top;\n",
       "    }\n",
       "\n",
       "    .dataframe thead th {\n",
       "        text-align: right;\n",
       "    }\n",
       "</style>\n",
       "<table border=\"1\" class=\"dataframe\">\n",
       "  <thead>\n",
       "    <tr style=\"text-align: right;\">\n",
       "      <th></th>\n",
       "      <th>Movie Name</th>\n",
       "    </tr>\n",
       "    <tr>\n",
       "      <th>Ranking</th>\n",
       "      <th></th>\n",
       "    </tr>\n",
       "  </thead>\n",
       "  <tbody>\n",
       "    <tr>\n",
       "      <th>1</th>\n",
       "      <td>Liar Liar (1997)</td>\n",
       "    </tr>\n",
       "    <tr>\n",
       "      <th>2</th>\n",
       "      <td>Air Force One (1997)</td>\n",
       "    </tr>\n",
       "    <tr>\n",
       "      <th>3</th>\n",
       "      <td>Silence of the Lambs, The (1991)</td>\n",
       "    </tr>\n",
       "    <tr>\n",
       "      <th>4</th>\n",
       "      <td>English Patient, The (1996)</td>\n",
       "    </tr>\n",
       "    <tr>\n",
       "      <th>5</th>\n",
       "      <td>Dante's Peak (1997)</td>\n",
       "    </tr>\n",
       "  </tbody>\n",
       "</table>\n",
       "</div>"
      ],
      "text/plain": [
       "                               Movie Name\n",
       "Ranking                                  \n",
       "1                        Liar Liar (1997)\n",
       "2                    Air Force One (1997)\n",
       "3        Silence of the Lambs, The (1991)\n",
       "4             English Patient, The (1996)\n",
       "5                     Dante's Peak (1997)"
      ]
     },
     "execution_count": 42,
     "metadata": {},
     "output_type": "execute_result"
    }
   ],
   "source": [
    "\n",
    "unweighted_pixie_recommend_moviebased(\"Jurassic Park (1993)\")"
   ]
  },
  {
   "cell_type": "markdown",
   "metadata": {
    "id": "ZpUH9IzVr5aQ"
   },
   "source": [
    "#### **Step 6: Understanding the Results**\n"
   ]
  },
  {
   "cell_type": "code",
   "execution_count": 43,
   "metadata": {
    "colab": {
     "base_uri": "https://localhost:8080/",
     "height": 237
    },
    "id": "Pjj7oLR_WXtS",
    "outputId": "2f814033-6a64-48ad-8c05-f04f5ae27086"
   },
   "outputs": [
    {
     "data": {
      "text/html": [
       "<div>\n",
       "<style scoped>\n",
       "    .dataframe tbody tr th:only-of-type {\n",
       "        vertical-align: middle;\n",
       "    }\n",
       "\n",
       "    .dataframe tbody tr th {\n",
       "        vertical-align: top;\n",
       "    }\n",
       "\n",
       "    .dataframe thead th {\n",
       "        text-align: right;\n",
       "    }\n",
       "</style>\n",
       "<table border=\"1\" class=\"dataframe\">\n",
       "  <thead>\n",
       "    <tr style=\"text-align: right;\">\n",
       "      <th></th>\n",
       "      <th>Movie Name</th>\n",
       "    </tr>\n",
       "    <tr>\n",
       "      <th>Ranking</th>\n",
       "      <th></th>\n",
       "    </tr>\n",
       "  </thead>\n",
       "  <tbody>\n",
       "    <tr>\n",
       "      <th>1</th>\n",
       "      <td>Crimson Tide (1995)</td>\n",
       "    </tr>\n",
       "    <tr>\n",
       "      <th>2</th>\n",
       "      <td>Net, The (1995)</td>\n",
       "    </tr>\n",
       "    <tr>\n",
       "      <th>3</th>\n",
       "      <td>Four Weddings and a Funeral (1994)</td>\n",
       "    </tr>\n",
       "    <tr>\n",
       "      <th>4</th>\n",
       "      <td>Wolf (1994)</td>\n",
       "    </tr>\n",
       "    <tr>\n",
       "      <th>5</th>\n",
       "      <td>Lost Horizon (1937)</td>\n",
       "    </tr>\n",
       "  </tbody>\n",
       "</table>\n",
       "</div>"
      ],
      "text/plain": [
       "                                 Movie Name\n",
       "Ranking                                    \n",
       "1                       Crimson Tide (1995)\n",
       "2                           Net, The (1995)\n",
       "3        Four Weddings and a Funeral (1994)\n",
       "4                               Wolf (1994)\n",
       "5                       Lost Horizon (1937)"
      ]
     },
     "execution_count": 43,
     "metadata": {},
     "output_type": "execute_result"
    }
   ],
   "source": [
    "unweighted_pixie_recommend_moviebased(\"Rear Window (1954)\",walk_length=10,num=5)"
   ]
  },
  {
   "cell_type": "code",
   "execution_count": 44,
   "metadata": {
    "colab": {
     "base_uri": "https://localhost:8080/",
     "height": 36
    },
    "id": "SotntCh9XHgz",
    "outputId": "56a717ce-b2f3-4554-d1f1-553ee324a1a0"
   },
   "outputs": [
    {
     "data": {
      "text/plain": [
       "'Movie not found in the dataset.'"
      ]
     },
     "execution_count": 44,
     "metadata": {},
     "output_type": "execute_result"
    }
   ],
   "source": [
    "unweighted_pixie_recommend_moviebased(\"abc\", walk_length=10, num=5)"
   ]
  },
  {
   "cell_type": "code",
   "execution_count": 45,
   "metadata": {
    "colab": {
     "base_uri": "https://localhost:8080/",
     "height": 36
    },
    "id": "uooOZiIMXVUp",
    "outputId": "e5137881-6890-42ea-82bd-f6739954b61a"
   },
   "outputs": [
    {
     "data": {
      "text/html": [
       "<div>\n",
       "<style scoped>\n",
       "    .dataframe tbody tr th:only-of-type {\n",
       "        vertical-align: middle;\n",
       "    }\n",
       "\n",
       "    .dataframe tbody tr th {\n",
       "        vertical-align: top;\n",
       "    }\n",
       "\n",
       "    .dataframe thead th {\n",
       "        text-align: right;\n",
       "    }\n",
       "</style>\n",
       "<table border=\"1\" class=\"dataframe\">\n",
       "  <thead>\n",
       "    <tr style=\"text-align: right;\">\n",
       "      <th></th>\n",
       "      <th>Movie Name</th>\n",
       "    </tr>\n",
       "    <tr>\n",
       "      <th>Ranking</th>\n",
       "      <th></th>\n",
       "    </tr>\n",
       "  </thead>\n",
       "  <tbody>\n",
       "    <tr>\n",
       "      <th>1</th>\n",
       "      <td>Michael Collins (1996)</td>\n",
       "    </tr>\n",
       "    <tr>\n",
       "      <th>2</th>\n",
       "      <td>Dante's Peak (1997)</td>\n",
       "    </tr>\n",
       "    <tr>\n",
       "      <th>3</th>\n",
       "      <td>Air Force One (1997)</td>\n",
       "    </tr>\n",
       "    <tr>\n",
       "      <th>4</th>\n",
       "      <td>Murder at 1600 (1997)</td>\n",
       "    </tr>\n",
       "    <tr>\n",
       "      <th>5</th>\n",
       "      <td>Unforgettable (1996)</td>\n",
       "    </tr>\n",
       "  </tbody>\n",
       "</table>\n",
       "</div>"
      ],
      "text/plain": [
       "                     Movie Name\n",
       "Ranking                        \n",
       "1        Michael Collins (1996)\n",
       "2           Dante's Peak (1997)\n",
       "3          Air Force One (1997)\n",
       "4         Murder at 1600 (1997)\n",
       "5          Unforgettable (1996)"
      ]
     },
     "execution_count": 45,
     "metadata": {},
     "output_type": "execute_result"
    }
   ],
   "source": [
    "unweighted_pixie_recommend_userbased(15, walk_length=10, num=5)"
   ]
  },
  {
   "cell_type": "code",
   "execution_count": 46,
   "metadata": {
    "colab": {
     "base_uri": "https://localhost:8080/",
     "height": 394
    },
    "id": "Utgh0a_FXamF",
    "outputId": "4d79c92c-b69b-42b0-ace6-5e8112c1df44"
   },
   "outputs": [
    {
     "data": {
      "text/plain": [
       "'User not found in the dataset.'"
      ]
     },
     "execution_count": 46,
     "metadata": {},
     "output_type": "execute_result"
    }
   ],
   "source": [
    "unweighted_pixie_recommend_userbased(0, walk_length=10, num=5)"
   ]
  },
  {
   "cell_type": "code",
   "execution_count": 47,
   "metadata": {
    "colab": {
     "base_uri": "https://localhost:8080/",
     "height": 394
    },
    "id": "-ZSM7Kn7YG3A",
    "outputId": "aa75b82a-1eab-4ab8-b385-dde31469e7b5"
   },
   "outputs": [
    {
     "data": {
      "text/html": [
       "<div>\n",
       "<style scoped>\n",
       "    .dataframe tbody tr th:only-of-type {\n",
       "        vertical-align: middle;\n",
       "    }\n",
       "\n",
       "    .dataframe tbody tr th {\n",
       "        vertical-align: top;\n",
       "    }\n",
       "\n",
       "    .dataframe thead th {\n",
       "        text-align: right;\n",
       "    }\n",
       "</style>\n",
       "<table border=\"1\" class=\"dataframe\">\n",
       "  <thead>\n",
       "    <tr style=\"text-align: right;\">\n",
       "      <th></th>\n",
       "      <th>Movie Name</th>\n",
       "    </tr>\n",
       "    <tr>\n",
       "      <th>Ranking</th>\n",
       "      <th></th>\n",
       "    </tr>\n",
       "  </thead>\n",
       "  <tbody>\n",
       "    <tr>\n",
       "      <th>1</th>\n",
       "      <td>Gone with the Wind (1939)</td>\n",
       "    </tr>\n",
       "    <tr>\n",
       "      <th>2</th>\n",
       "      <td>Mrs. Brown (Her Majesty, Mrs. Brown) (1997)</td>\n",
       "    </tr>\n",
       "    <tr>\n",
       "      <th>3</th>\n",
       "      <td>187 (1997)</td>\n",
       "    </tr>\n",
       "    <tr>\n",
       "      <th>4</th>\n",
       "      <td>Grifters, The (1990)</td>\n",
       "    </tr>\n",
       "    <tr>\n",
       "      <th>5</th>\n",
       "      <td>Rocket Man (1997)</td>\n",
       "    </tr>\n",
       "  </tbody>\n",
       "</table>\n",
       "</div>"
      ],
      "text/plain": [
       "                                          Movie Name\n",
       "Ranking                                             \n",
       "1                          Gone with the Wind (1939)\n",
       "2        Mrs. Brown (Her Majesty, Mrs. Brown) (1997)\n",
       "3                                         187 (1997)\n",
       "4                               Grifters, The (1990)\n",
       "5                                  Rocket Man (1997)"
      ]
     },
     "execution_count": 47,
     "metadata": {},
     "output_type": "execute_result"
    }
   ],
   "source": [
    "unweighted_pixie_recommend_moviebased(\"Top Gun (1986)\",walk_length=10,num=5)"
   ]
  },
  {
   "cell_type": "code",
   "execution_count": 48,
   "metadata": {
    "colab": {
     "base_uri": "https://localhost:8080/",
     "height": 394
    },
    "id": "B4UXO3u1YPmn",
    "outputId": "78bd86fb-ea6b-46cc-a9bc-2d3df49a3f82"
   },
   "outputs": [
    {
     "data": {
      "text/html": [
       "<div>\n",
       "<style scoped>\n",
       "    .dataframe tbody tr th:only-of-type {\n",
       "        vertical-align: middle;\n",
       "    }\n",
       "\n",
       "    .dataframe tbody tr th {\n",
       "        vertical-align: top;\n",
       "    }\n",
       "\n",
       "    .dataframe thead th {\n",
       "        text-align: right;\n",
       "    }\n",
       "</style>\n",
       "<table border=\"1\" class=\"dataframe\">\n",
       "  <thead>\n",
       "    <tr style=\"text-align: right;\">\n",
       "      <th></th>\n",
       "      <th>Movie Name</th>\n",
       "    </tr>\n",
       "    <tr>\n",
       "      <th>Ranking</th>\n",
       "      <th></th>\n",
       "    </tr>\n",
       "  </thead>\n",
       "  <tbody>\n",
       "    <tr>\n",
       "      <th>1</th>\n",
       "      <td>Four Weddings and a Funeral (1994)</td>\n",
       "    </tr>\n",
       "    <tr>\n",
       "      <th>2</th>\n",
       "      <td>Independence Day (ID4) (1996)</td>\n",
       "    </tr>\n",
       "    <tr>\n",
       "      <th>3</th>\n",
       "      <td>Princess Bride, The (1987)</td>\n",
       "    </tr>\n",
       "    <tr>\n",
       "      <th>4</th>\n",
       "      <td>Return of the Jedi (1983)</td>\n",
       "    </tr>\n",
       "    <tr>\n",
       "      <th>5</th>\n",
       "      <td>Back to the Future (1985)</td>\n",
       "    </tr>\n",
       "  </tbody>\n",
       "</table>\n",
       "</div>"
      ],
      "text/plain": [
       "                                 Movie Name\n",
       "Ranking                                    \n",
       "1        Four Weddings and a Funeral (1994)\n",
       "2             Independence Day (ID4) (1996)\n",
       "3                Princess Bride, The (1987)\n",
       "4                 Return of the Jedi (1983)\n",
       "5                 Back to the Future (1985)"
      ]
     },
     "execution_count": 48,
     "metadata": {},
     "output_type": "execute_result"
    }
   ],
   "source": [
    "unweighted_pixie_recommend_moviebased(\"Jurassic Park (1993)\",walk_length=15,num=5)"
   ]
  },
  {
   "cell_type": "markdown",
   "metadata": {},
   "source": [
    "## Weighted Pixie Recommendation"
   ]
  },
  {
   "cell_type": "markdown",
   "metadata": {},
   "source": [
    "#### **Step 1: Import Required Libraries**"
   ]
  },
  {
   "cell_type": "code",
   "execution_count": 49,
   "metadata": {},
   "outputs": [],
   "source": [
    "# Code the function here\n",
    "import random\n",
    "import pandas as pd\n",
    "import sklearn"
   ]
  },
  {
   "cell_type": "markdown",
   "metadata": {
    "id": "_FVGjhl0ppFK"
   },
   "source": [
    "#### **Step 2: Implement the Random Walk Algorithm**\n",
    "The task is to **simulate a random walk** from a given starting point in the **bipartite user-movie graph**.\n"
   ]
  },
  {
   "cell_type": "code",
   "execution_count": 50,
   "metadata": {},
   "outputs": [],
   "source": [
    "# Updated Graph (with weights):\n",
    "\n",
    "weighted_graph = {}\n",
    "for _, row in ratings_df.iterrows():\n",
    "    user, movie, weight = row['user_id'], row['title'], row['rating']\n",
    "    # user = 'u-' + str(user)\n",
    "    if user not in weighted_graph:\n",
    "        weighted_graph[user] = set()\n",
    "    if movie not in weighted_graph:\n",
    "        weighted_graph[movie] = set()\n",
    "    weighted_graph[user].add((movie, weight))\n",
    "    weighted_graph[movie].add((user, weight))\n",
    "\n"
   ]
  },
  {
   "cell_type": "code",
   "execution_count": 51,
   "metadata": {},
   "outputs": [
    {
     "name": "stdout",
     "output_type": "stream",
     "text": [
      "Counts\tTitle\n",
      "49\tBatman (1989)\n",
      "44\tTo Kill a Mockingbird (1962)\n",
      "43\tReturn of the Jedi (1983)\n",
      "43\tStar Wars (1977)\n",
      "42\tSnow White and the Seven Dwarfs (1937)\n"
     ]
    }
   ],
   "source": [
    "# Random Walk simulation\n",
    "\n",
    "# Let's find movie recommendation for the user_id 5\n",
    "user_id = 5\n",
    "\n",
    "# find the movies that user id has visited:\n",
    "visited_movies=weighted_graph[user_id]\n",
    "# visited_movies \n",
    "\n",
    "\n",
    "\n",
    "# filter the movies that have highest score\n",
    "max_weight = max(dict(visited_movies).values())\n",
    "top_nodes = [node for node, weight in dict(visited_movies).items() if weight == max_weight]\n",
    "\n",
    "# randomly pick a movie to start the walk from:\n",
    "current_node=random.choice(top_nodes)\n",
    "\n",
    "# start with a walk length of 5000 (High number is for illustration purpose to see evident numbers)\n",
    "walk_length = 5000\n",
    "\n",
    "# # start with the visit count dictionary, that keeps track of count of each movie visited during the walk:\n",
    "visit_count={movie:0 for movie in (dict(visited_movies)).keys()}\n",
    "visit_count\n",
    "# # start walking\n",
    "for _ in range(walk_length):\n",
    "    connected_nodes=weighted_graph[current_node]\n",
    "    if not connected_nodes:\n",
    "        break\n",
    "    \n",
    "    max_weight = max(dict(connected_nodes).values())\n",
    "    top_nodes = [node for node, weight in dict(connected_nodes).items() if weight == max_weight]\n",
    "    next_node=random.choice(top_nodes)\n",
    "    \n",
    "    if next_node in visit_count:\n",
    "        visit_count[next_node]+=1\n",
    "    current_node=next_node\n",
    "    # if _ == 2:\n",
    "    #     break\n",
    "\n",
    "\n",
    "# Review the visit count after the walk\n",
    "counter = 1\n",
    "print('Counts\\tTitle')\n",
    "for movie in sorted(visit_count, key=visit_count.get, reverse=True):\n",
    "    print(str(visit_count[movie]) + '\\t' + movie )\n",
    "    counter = counter + 1\n",
    "    if counter > 5:\n",
    "        break"
   ]
  },
  {
   "cell_type": "markdown",
   "metadata": {
    "id": "E7D7Pj6trss9"
   },
   "source": [
    "#### **Step 3: Implement User-Based Recommendation**"
   ]
  },
  {
   "cell_type": "code",
   "execution_count": 52,
   "metadata": {},
   "outputs": [
    {
     "data": {
      "text/html": [
       "<div>\n",
       "<style scoped>\n",
       "    .dataframe tbody tr th:only-of-type {\n",
       "        vertical-align: middle;\n",
       "    }\n",
       "\n",
       "    .dataframe tbody tr th {\n",
       "        vertical-align: top;\n",
       "    }\n",
       "\n",
       "    .dataframe thead th {\n",
       "        text-align: right;\n",
       "    }\n",
       "</style>\n",
       "<table border=\"1\" class=\"dataframe\">\n",
       "  <thead>\n",
       "    <tr style=\"text-align: right;\">\n",
       "      <th></th>\n",
       "      <th>Movie Name</th>\n",
       "    </tr>\n",
       "    <tr>\n",
       "      <th>Ranking</th>\n",
       "      <th></th>\n",
       "    </tr>\n",
       "  </thead>\n",
       "  <tbody>\n",
       "    <tr>\n",
       "      <th>1</th>\n",
       "      <td>Field of Dreams (1989)</td>\n",
       "    </tr>\n",
       "    <tr>\n",
       "      <th>2</th>\n",
       "      <td>Chasing Amy (1997)</td>\n",
       "    </tr>\n",
       "    <tr>\n",
       "      <th>3</th>\n",
       "      <td>Ed Wood (1994)</td>\n",
       "    </tr>\n",
       "    <tr>\n",
       "      <th>4</th>\n",
       "      <td>Usual Suspects, The (1995)</td>\n",
       "    </tr>\n",
       "    <tr>\n",
       "      <th>5</th>\n",
       "      <td>Net, The (1995)</td>\n",
       "    </tr>\n",
       "  </tbody>\n",
       "</table>\n",
       "</div>"
      ],
      "text/plain": [
       "                         Movie Name\n",
       "Ranking                            \n",
       "1            Field of Dreams (1989)\n",
       "2                Chasing Amy (1997)\n",
       "3                    Ed Wood (1994)\n",
       "4        Usual Suspects, The (1995)\n",
       "5                   Net, The (1995)"
      ]
     },
     "execution_count": 52,
     "metadata": {},
     "output_type": "execute_result"
    }
   ],
   "source": [
    "def weighted_pixie_recommend_userbased(user_id, walk_length=5000, num=10):\n",
    "    \n",
    "\n",
    "    if user_id in weighted_graph:\n",
    "        visited_movies=weighted_graph[user_id]\n",
    "        max_weight = max(dict(visited_movies).values())\n",
    "        top_nodes = [node for node, weight in dict(visited_movies).items() if weight == max_weight]\n",
    "        \n",
    "        # randomly pick a movie to start the walk from:\n",
    "        current_node=random.choice(top_nodes)\n",
    "        visit_count={movie:0 for movie in (dict(visited_movies)).keys()}\n",
    "\n",
    "        for _ in range(walk_length):\n",
    "            connected_nodes=weighted_graph[current_node]\n",
    "            if not connected_nodes:\n",
    "                break\n",
    "            \n",
    "            max_weight = max(dict(connected_nodes).values())\n",
    "            top_nodes = [node for node, weight in dict(connected_nodes).items() if weight == max_weight]\n",
    "            next_node=random.choice(top_nodes)\n",
    "            \n",
    "            if next_node in visit_count:\n",
    "                visit_count[next_node]+=1\n",
    "            current_node=next_node\n",
    "        ranked_movies=sorted(visit_count,key=visit_count.get,reverse=True)\n",
    "        # ranked_movies = [movie for movie in ranked_movies if movie in u_item_df['movie_id'].values]\n",
    "\n",
    "    else:\n",
    "        return \"User not found in the dataset.\"\n",
    "    \n",
    "    result_df=pd.DataFrame({'Ranking':range(1,num+1),'Movie Name':ranked_movies[:num]})\n",
    "    result_df.set_index('Ranking',inplace=True)\n",
    "    return result_df\n",
    "\n",
    "\n",
    "# call the function for any user_id\n",
    "weighted_pixie_recommend_userbased(1, walk_length=50, num=5)"
   ]
  },
  {
   "cell_type": "markdown",
   "metadata": {},
   "source": [
    "\n",
    "#### **Step 4: Implement Movie-Based Recommendation**"
   ]
  },
  {
   "cell_type": "code",
   "execution_count": 53,
   "metadata": {},
   "outputs": [
    {
     "data": {
      "text/html": [
       "<div>\n",
       "<style scoped>\n",
       "    .dataframe tbody tr th:only-of-type {\n",
       "        vertical-align: middle;\n",
       "    }\n",
       "\n",
       "    .dataframe tbody tr th {\n",
       "        vertical-align: top;\n",
       "    }\n",
       "\n",
       "    .dataframe thead th {\n",
       "        text-align: right;\n",
       "    }\n",
       "</style>\n",
       "<table border=\"1\" class=\"dataframe\">\n",
       "  <thead>\n",
       "    <tr style=\"text-align: right;\">\n",
       "      <th></th>\n",
       "      <th>Movie Name</th>\n",
       "    </tr>\n",
       "    <tr>\n",
       "      <th>Ranking</th>\n",
       "      <th></th>\n",
       "    </tr>\n",
       "  </thead>\n",
       "  <tbody>\n",
       "    <tr>\n",
       "      <th>1</th>\n",
       "      <td>Ace Ventura: Pet Detective (1994)</td>\n",
       "    </tr>\n",
       "    <tr>\n",
       "      <th>2</th>\n",
       "      <td>Client, The (1994)</td>\n",
       "    </tr>\n",
       "    <tr>\n",
       "      <th>3</th>\n",
       "      <td>Cinderella (1950)</td>\n",
       "    </tr>\n",
       "    <tr>\n",
       "      <th>4</th>\n",
       "      <td>Cape Fear (1962)</td>\n",
       "    </tr>\n",
       "    <tr>\n",
       "      <th>5</th>\n",
       "      <td>Shadowlands (1993)</td>\n",
       "    </tr>\n",
       "  </tbody>\n",
       "</table>\n",
       "</div>"
      ],
      "text/plain": [
       "                                Movie Name\n",
       "Ranking                                   \n",
       "1        Ace Ventura: Pet Detective (1994)\n",
       "2                       Client, The (1994)\n",
       "3                        Cinderella (1950)\n",
       "4                         Cape Fear (1962)\n",
       "5                       Shadowlands (1993)"
      ]
     },
     "execution_count": 53,
     "metadata": {},
     "output_type": "execute_result"
    }
   ],
   "source": [
    "def weighted_pixie_recommend_moviebased(movie_name, walk_length=5000, num=5):\n",
    "\n",
    "    if movie_name not in u_item_df['title'].values:\n",
    "        return \"Movie not found in the dataset.\"\n",
    "    else:\n",
    "\n",
    "    \n",
    "        # randomly pick a movie to start the walk from:\n",
    "        current_node=movie_name\n",
    "        visit_count={movie:0 for movie in u_item_df['title']}\n",
    "\n",
    "        for _ in range(walk_length):\n",
    "            connected_nodes=weighted_graph[current_node]\n",
    "            if not connected_nodes:\n",
    "                break\n",
    "            \n",
    "            max_weight = max(dict(connected_nodes).values())\n",
    "            top_nodes = [node for node, weight in dict(connected_nodes).items() if weight == max_weight]\n",
    "            next_node=random.choice(top_nodes)\n",
    "            \n",
    "            if next_node in visit_count:\n",
    "                visit_count[next_node]+=1\n",
    "            current_node=next_node\n",
    "        ranked_movies=sorted(visit_count,key=visit_count.get,reverse=True)\n",
    "        # ranked_movies = [movie for movie in ranked_movies if movie in u_item_df['movie_id'].values]\n",
    "\n",
    "        result_df=pd.DataFrame({'Ranking':range(1,num+1),'Movie Name':ranked_movies[:num]})\n",
    "        result_df.set_index('Ranking',inplace=True)\n",
    "        return result_df\n",
    "\n",
    "\n",
    "# call the function for any user_id\n",
    "weighted_pixie_recommend_moviebased('Young Frankenstein (1974)', walk_length=50, num=5)"
   ]
  },
  {
   "cell_type": "markdown",
   "metadata": {
    "id": "qxN_ibCCrCpx"
   },
   "source": [
    "#### **Step 5: Running Your Recommendation System**\n"
   ]
  },
  {
   "cell_type": "markdown",
   "metadata": {},
   "source": [
    "\n",
    "##### **User-Based Recommendation**\n"
   ]
  },
  {
   "cell_type": "code",
   "execution_count": 54,
   "metadata": {},
   "outputs": [
    {
     "data": {
      "text/html": [
       "<div>\n",
       "<style scoped>\n",
       "    .dataframe tbody tr th:only-of-type {\n",
       "        vertical-align: middle;\n",
       "    }\n",
       "\n",
       "    .dataframe tbody tr th {\n",
       "        vertical-align: top;\n",
       "    }\n",
       "\n",
       "    .dataframe thead th {\n",
       "        text-align: right;\n",
       "    }\n",
       "</style>\n",
       "<table border=\"1\" class=\"dataframe\">\n",
       "  <thead>\n",
       "    <tr style=\"text-align: right;\">\n",
       "      <th></th>\n",
       "      <th>Movie Name</th>\n",
       "    </tr>\n",
       "    <tr>\n",
       "      <th>Ranking</th>\n",
       "      <th></th>\n",
       "    </tr>\n",
       "  </thead>\n",
       "  <tbody>\n",
       "    <tr>\n",
       "      <th>1</th>\n",
       "      <td>Star Wars (1977)</td>\n",
       "    </tr>\n",
       "    <tr>\n",
       "      <th>2</th>\n",
       "      <td>Terminator, The (1984)</td>\n",
       "    </tr>\n",
       "    <tr>\n",
       "      <th>3</th>\n",
       "      <td>Blues Brothers, The (1980)</td>\n",
       "    </tr>\n",
       "    <tr>\n",
       "      <th>4</th>\n",
       "      <td>Swingers (1996)</td>\n",
       "    </tr>\n",
       "    <tr>\n",
       "      <th>5</th>\n",
       "      <td>Usual Suspects, The (1995)</td>\n",
       "    </tr>\n",
       "  </tbody>\n",
       "</table>\n",
       "</div>"
      ],
      "text/plain": [
       "                         Movie Name\n",
       "Ranking                            \n",
       "1                  Star Wars (1977)\n",
       "2            Terminator, The (1984)\n",
       "3        Blues Brothers, The (1980)\n",
       "4                   Swingers (1996)\n",
       "5        Usual Suspects, The (1995)"
      ]
     },
     "execution_count": 54,
     "metadata": {},
     "output_type": "execute_result"
    }
   ],
   "source": [
    "# call the function for any user_id\n",
    "weighted_pixie_recommend_userbased(1, walk_length=50, num=5)"
   ]
  },
  {
   "cell_type": "markdown",
   "metadata": {},
   "source": [
    "\n",
    "##### **Movie-Based Recommendation**\n"
   ]
  },
  {
   "cell_type": "code",
   "execution_count": 55,
   "metadata": {},
   "outputs": [
    {
     "data": {
      "text/html": [
       "<div>\n",
       "<style scoped>\n",
       "    .dataframe tbody tr th:only-of-type {\n",
       "        vertical-align: middle;\n",
       "    }\n",
       "\n",
       "    .dataframe tbody tr th {\n",
       "        vertical-align: top;\n",
       "    }\n",
       "\n",
       "    .dataframe thead th {\n",
       "        text-align: right;\n",
       "    }\n",
       "</style>\n",
       "<table border=\"1\" class=\"dataframe\">\n",
       "  <thead>\n",
       "    <tr style=\"text-align: right;\">\n",
       "      <th></th>\n",
       "      <th>Movie Name</th>\n",
       "    </tr>\n",
       "    <tr>\n",
       "      <th>Ranking</th>\n",
       "      <th></th>\n",
       "    </tr>\n",
       "  </thead>\n",
       "  <tbody>\n",
       "    <tr>\n",
       "      <th>1</th>\n",
       "      <td>Schindler's List (1993)</td>\n",
       "    </tr>\n",
       "    <tr>\n",
       "      <th>2</th>\n",
       "      <td>2001: A Space Odyssey (1968)</td>\n",
       "    </tr>\n",
       "    <tr>\n",
       "      <th>3</th>\n",
       "      <td>Friday (1995)</td>\n",
       "    </tr>\n",
       "    <tr>\n",
       "      <th>4</th>\n",
       "      <td>Ace Ventura: Pet Detective (1994)</td>\n",
       "    </tr>\n",
       "    <tr>\n",
       "      <th>5</th>\n",
       "      <td>Home Alone (1990)</td>\n",
       "    </tr>\n",
       "  </tbody>\n",
       "</table>\n",
       "</div>"
      ],
      "text/plain": [
       "                                Movie Name\n",
       "Ranking                                   \n",
       "1                  Schindler's List (1993)\n",
       "2             2001: A Space Odyssey (1968)\n",
       "3                            Friday (1995)\n",
       "4        Ace Ventura: Pet Detective (1994)\n",
       "5                        Home Alone (1990)"
      ]
     },
     "execution_count": 55,
     "metadata": {},
     "output_type": "execute_result"
    }
   ],
   "source": [
    "# call the function for any user_id\n",
    "weighted_pixie_recommend_moviebased('Back to the Future (1985)', walk_length = 50, num=5)"
   ]
  },
  {
   "cell_type": "code",
   "execution_count": null,
   "metadata": {},
   "outputs": [],
   "source": []
  },
  {
   "cell_type": "markdown",
   "metadata": {},
   "source": [
    "## Insights and Findings\n",
    "1. `walk_length` is a parameter that says how many steps the random walk happens. Higher the walk_length, the more likely it finds some hidden gems (rarely watched movies). Lower walk_length could lead to popular movies in the results, that most people watch\n",
    "2. `num` is anotherthe variable that limits the number of recommendations"
   ]
  },
  {
   "cell_type": "code",
   "execution_count": null,
   "metadata": {},
   "outputs": [],
   "source": []
  },
  {
   "cell_type": "code",
   "execution_count": null,
   "metadata": {},
   "outputs": [],
   "source": []
  },
  {
   "cell_type": "code",
   "execution_count": null,
   "metadata": {},
   "outputs": [],
   "source": []
  },
  {
   "cell_type": "markdown",
   "metadata": {
    "id": "Q36Y2C7PxWO0"
   },
   "source": [
    "---"
   ]
  },
  {
   "cell_type": "markdown",
   "metadata": {
    "id": "9iKlQlvBtiGe"
   },
   "source": [
    "## **Submission Requirements:**"
   ]
  },
  {
   "cell_type": "markdown",
   "metadata": {
    "id": "NHGGedZexPs0",
    "jp-MarkdownHeadingCollapsed": true
   },
   "source": [
    "To successfully complete this assignment, ensure that you submit the following:\n",
    "\n",
    "\n",
    "### **1. Jupyter Notebook Submission**\n",
    "- Submit a **fully completed Jupyter Notebook** that includes:\n",
    "  - **All implemented recommendation functions** (user-based, item-based, and random walk-based recommendations).\n",
    "  - **Code explanations** in markdown cells to describe each step.\n",
    "  - **Results and insights** from running your recommendation models.\n",
    "\n",
    "\n",
    "### **2. Explanation of Pixie-Inspired Algorithms (3-5 Paragraphs)**\n",
    "- Write a **detailed explanation** of **Pixie-inspired random walk algorithms** used for recommendations.\n",
    "- Your explanation should cover:\n",
    "  - What **Pixie-inspired recommendation systems** are.\n",
    "  - How **random walks** help in identifying relevant recommendations.\n",
    "  - Any real-world applications of such algorithms in industry.\n",
    "\n",
    "\n",
    "### **3. Report for the Submitted Notebook**\n",
    "Your report should be structured as follows:\n",
    "\n",
    "#### **Title: Movie Recommendation System Report**\n",
    "\n",
    "#### **1. Introduction**\n",
    "- Briefly introduce **movie recommendation systems** and why they are important.\n",
    "- Explain the **different approaches used** (user-based, item-based, random-walk).\n",
    "\n",
    "#### **2. Dataset Description**\n",
    "- Describe the **MovieLens 100K dataset**:\n",
    "  - Number of users, movies, and ratings.\n",
    "  - What features were used.\n",
    "  - Any preprocessing performed.\n",
    "\n",
    "#### **3. Methodology**\n",
    "- Explain the three recommendation techniques implemented:\n",
    "  - **User-based collaborative filtering** (how user similarity was calculated).\n",
    "  - **Item-based collaborative filtering** (how item similarity was determined).\n",
    "  - **Random-walk-based Pixie algorithm** (why graph-based approaches are effective).\n",
    "  \n",
    "#### **4. Implementation Details**\n",
    "- Discuss the steps taken to build the functions.\n",
    "- Describe how the **adjacency list graph** was created.\n",
    "- Explain how **random walks** were performed and how visited movies were ranked.\n",
    "\n",
    "#### **5. Results and Evaluation**\n",
    "- Present **example outputs** from each recommendation approach.\n",
    "- Compare the different methods in terms of accuracy and usefulness.\n",
    "- Discuss any **limitations** in the implementation.\n",
    "\n",
    "#### **6. Conclusion**\n",
    "- Summarize the key takeaways from the project.\n",
    "- Discuss potential improvements (e.g., **hybrid models, additional features**).\n",
    "- Suggest real-world applications of the methods used."
   ]
  },
  {
   "cell_type": "markdown",
   "metadata": {
    "id": "NWgT_Shy-vUK"
   },
   "source": [
    "### **Submission Instructions**"
   ]
  },
  {
   "cell_type": "markdown",
   "metadata": {
    "id": "Nuz1s-Vh_L55",
    "jp-MarkdownHeadingCollapsed": true
   },
   "source": [
    "- Submit `.zip` file consisting of Jupyter Notebook and all the datafiles (provided) and the ones saved [i.e. `users.csv`, `movies.csv` and `ratings.csv`]. Also, include the Report and Pixie Algorithm explanation document.\n",
    "- [`Bonus 10 Points`] **Upload your Jupyter Notebook, Explanation Document, and Report** to your GitHub repository.\n",
    "- Ensure the repository is public and contains:\n",
    "  - `users.csv`, `movies.csv` and `ratings.csv` [These are the Dataframes which were created in part 1. Save and export them as a `.csv` file]\n",
    "  - `Movie_Recommendation.ipynb`\n",
    "  - `Pixie_Algorithm_Explanation.pdf` or `.md`\n",
    "  - `Recommendation_Report.pdf` or `.md`\n",
    "- **Submit the GitHub repository link in the cell below.**\n",
    "\n",
    "\n",
    "#### **Example Submission Format**\n",
    "```text\n",
    "GitHub Repository: https://github.com/username/Movie-Recommendation\n",
    "```"
   ]
  },
  {
   "cell_type": "code",
   "execution_count": null,
   "metadata": {
    "id": "jol9nRDau6fZ"
   },
   "outputs": [],
   "source": [
    "# Submit the Github Link here:\n"
   ]
  },
  {
   "cell_type": "markdown",
   "metadata": {
    "id": "oQ6aluK-0ZMa"
   },
   "source": [
    "### **Grading Rubric: ITCS 6162 - Data Mining Assignment**"
   ]
  },
  {
   "cell_type": "markdown",
   "metadata": {
    "id": "sNAfeIzA_fCq",
    "jp-MarkdownHeadingCollapsed": true
   },
   "source": [
    "\n",
    "| **Category**                              | **Criteria**                                                     | **Points** |\n",
    "|-------------------------------------------|----------------------------------------------------------------|------------|\n",
    "| **Part 1: Exploring and Cleaning Data (15 pts)**  | Properly loads `u.user`, `u.movies`, and `u.item` datasets into DataFrames | 5 |\n",
    "|                                           | Handles missing values, duplicates, and inconsistencies appropriately | 5 |\n",
    "|                                           | Saves the cleaned datasets into CSV files: `users.csv`, `movies.csv`, `ratings.csv` | 5 |\n",
    "| **Part 2: Collaborative Filtering-Based Recommendation (30 pts)** | Implements user-based collaborative filtering correctly | 10 |\n",
    "|                                           | Implements item-based collaborative filtering correctly | 10 |\n",
    "|                                           | Computes similarity measures accurately and provides valid recommendations | 10 |\n",
    "| **Part 3: Graph-Based Recommender (Pixie-Inspired Algorithm) (35 pts)** | Constructs adjacency lists properly from user-movie interactions | 10 |\n",
    "|                                           | Implements weighted random walk-based recommendation correctly | 15 |\n",
    "|                                           | Explains and justifies the algorithm design choices (Pixie-inspired) | 10 |\n",
    "| **Code Quality & Documentation (10 pts)** | Code is well-structured, efficient, and follows best practices | 5 |\n",
    "|                                           | Markdown explanations and comments are clear and enhance understanding | 5 |\n",
    "| **Results & Interpretation (5 pts)**      | Provides meaningful insights from the recommendation system's output | 5 |\n",
    "| **Submission & Report (5 pts)**          | Submits all required files in the correct format (ZIP file with Jupyter notebook, processed CSV files, and project report) | 5 |\n",
    "| **Total**                                 |                              | 100 |\n",
    "\n",
    "#### **Bonus (10 pts)**\n",
    "| **Category**                              | **Criteria**                                                     | **Points** |\n",
    "|-------------------------------------------|----------------------------------------------------------------|------------|\n",
    "| **GitHub Submission**                     | Provides a well-documented GitHub repository with CSV files, a structured README, and a properly formatted Jupyter Notebook | 10 |"
   ]
  }
 ],
 "metadata": {
  "colab": {
   "collapsed_sections": [
    "Nuz1s-Vh_L55"
   ],
   "provenance": []
  },
  "kernelspec": {
   "display_name": "Python 3 (ipykernel)",
   "language": "python",
   "name": "python3"
  },
  "language_info": {
   "codemirror_mode": {
    "name": "ipython",
    "version": 3
   },
   "file_extension": ".py",
   "mimetype": "text/x-python",
   "name": "python",
   "nbconvert_exporter": "python",
   "pygments_lexer": "ipython3",
   "version": "3.13.0"
  }
 },
 "nbformat": 4,
 "nbformat_minor": 4
}
